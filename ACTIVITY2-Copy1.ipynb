{
 "cells": [
  {
   "cell_type": "markdown",
   "id": "f3b0ff98-7231-400b-9d7c-9be24bd2b81a",
   "metadata": {},
   "source": [
    "<H1> ACTIVITY #2 :UK ACCIDENTS </H1>\n",
    "<hr>\n",
    "<h3> Analysts : Quert Russel Lalisan</h3>"
   ]
  },
  {
   "cell_type": "code",
   "execution_count": 1,
   "id": "4d9295b8-1bc1-4d1a-ae1b-8d74296d5ea8",
   "metadata": {},
   "outputs": [],
   "source": [
    "import numpy as np\n",
    "import matplotlib as plt\n",
    "import pandas as pd\n",
    "import seaborn as sns\n",
    "import matplotlib.pyplot as plt\n",
    "from scipy.stats import f_oneway\n",
    "\n",
    "import warnings\n",
    "warnings.filterwarnings(\"ignore\")"
   ]
  },
  {
   "cell_type": "code",
   "execution_count": 2,
   "id": "2cc23cbc-0e18-4283-94f4-370fef112eff",
   "metadata": {},
   "outputs": [],
   "source": [
    "accident = pd.read_csv('dataset\\\\uk_road_accident.csv')"
   ]
  },
  {
   "cell_type": "code",
   "execution_count": 3,
   "id": "f2be5c16-8d83-4d80-8724-0e7d67f36d36",
   "metadata": {},
   "outputs": [
    {
     "data": {
      "text/html": [
       "<div>\n",
       "<style scoped>\n",
       "    .dataframe tbody tr th:only-of-type {\n",
       "        vertical-align: middle;\n",
       "    }\n",
       "\n",
       "    .dataframe tbody tr th {\n",
       "        vertical-align: top;\n",
       "    }\n",
       "\n",
       "    .dataframe thead th {\n",
       "        text-align: right;\n",
       "    }\n",
       "</style>\n",
       "<table border=\"1\" class=\"dataframe\">\n",
       "  <thead>\n",
       "    <tr style=\"text-align: right;\">\n",
       "      <th></th>\n",
       "      <th>Index</th>\n",
       "      <th>Accident_Severity</th>\n",
       "      <th>Accident Date</th>\n",
       "      <th>Latitude</th>\n",
       "      <th>Light_Conditions</th>\n",
       "      <th>District Area</th>\n",
       "      <th>Longitude</th>\n",
       "      <th>Number_of_Casualties</th>\n",
       "      <th>Number_of_Vehicles</th>\n",
       "      <th>Road_Surface_Conditions</th>\n",
       "      <th>Road_Type</th>\n",
       "      <th>Urban_or_Rural_Area</th>\n",
       "      <th>Weather_Conditions</th>\n",
       "      <th>Vehicle_Type</th>\n",
       "    </tr>\n",
       "  </thead>\n",
       "  <tbody>\n",
       "    <tr>\n",
       "      <th>0</th>\n",
       "      <td>200701BS64157</td>\n",
       "      <td>Serious</td>\n",
       "      <td>5/6/2019</td>\n",
       "      <td>51.506187</td>\n",
       "      <td>Darkness - lights lit</td>\n",
       "      <td>Kensington and Chelsea</td>\n",
       "      <td>-0.209082</td>\n",
       "      <td>1</td>\n",
       "      <td>2</td>\n",
       "      <td>Dry</td>\n",
       "      <td>Single carriageway</td>\n",
       "      <td>Urban</td>\n",
       "      <td>Fine no high winds</td>\n",
       "      <td>Car</td>\n",
       "    </tr>\n",
       "    <tr>\n",
       "      <th>1</th>\n",
       "      <td>200701BS65737</td>\n",
       "      <td>Serious</td>\n",
       "      <td>2/7/2019</td>\n",
       "      <td>51.495029</td>\n",
       "      <td>Daylight</td>\n",
       "      <td>Kensington and Chelsea</td>\n",
       "      <td>-0.173647</td>\n",
       "      <td>1</td>\n",
       "      <td>2</td>\n",
       "      <td>Wet or damp</td>\n",
       "      <td>Single carriageway</td>\n",
       "      <td>Urban</td>\n",
       "      <td>Raining no high winds</td>\n",
       "      <td>Car</td>\n",
       "    </tr>\n",
       "    <tr>\n",
       "      <th>2</th>\n",
       "      <td>200701BS66127</td>\n",
       "      <td>Serious</td>\n",
       "      <td>26-08-2019</td>\n",
       "      <td>51.517715</td>\n",
       "      <td>Darkness - lighting unknown</td>\n",
       "      <td>Kensington and Chelsea</td>\n",
       "      <td>-0.210215</td>\n",
       "      <td>1</td>\n",
       "      <td>3</td>\n",
       "      <td>Dry</td>\n",
       "      <td>NaN</td>\n",
       "      <td>Urban</td>\n",
       "      <td>NaN</td>\n",
       "      <td>Taxi/Private hire car</td>\n",
       "    </tr>\n",
       "    <tr>\n",
       "      <th>3</th>\n",
       "      <td>200701BS66128</td>\n",
       "      <td>Serious</td>\n",
       "      <td>16-08-2019</td>\n",
       "      <td>51.495478</td>\n",
       "      <td>Daylight</td>\n",
       "      <td>Kensington and Chelsea</td>\n",
       "      <td>-0.202731</td>\n",
       "      <td>1</td>\n",
       "      <td>4</td>\n",
       "      <td>Dry</td>\n",
       "      <td>Single carriageway</td>\n",
       "      <td>Urban</td>\n",
       "      <td>Fine no high winds</td>\n",
       "      <td>Bus or coach (17 or more pass seats)</td>\n",
       "    </tr>\n",
       "    <tr>\n",
       "      <th>4</th>\n",
       "      <td>200701BS66837</td>\n",
       "      <td>Slight</td>\n",
       "      <td>3/9/2019</td>\n",
       "      <td>51.488576</td>\n",
       "      <td>Darkness - lights lit</td>\n",
       "      <td>Kensington and Chelsea</td>\n",
       "      <td>-0.192487</td>\n",
       "      <td>1</td>\n",
       "      <td>2</td>\n",
       "      <td>Dry</td>\n",
       "      <td>NaN</td>\n",
       "      <td>Urban</td>\n",
       "      <td>NaN</td>\n",
       "      <td>Other vehicle</td>\n",
       "    </tr>\n",
       "    <tr>\n",
       "      <th>...</th>\n",
       "      <td>...</td>\n",
       "      <td>...</td>\n",
       "      <td>...</td>\n",
       "      <td>...</td>\n",
       "      <td>...</td>\n",
       "      <td>...</td>\n",
       "      <td>...</td>\n",
       "      <td>...</td>\n",
       "      <td>...</td>\n",
       "      <td>...</td>\n",
       "      <td>...</td>\n",
       "      <td>...</td>\n",
       "      <td>...</td>\n",
       "      <td>...</td>\n",
       "    </tr>\n",
       "    <tr>\n",
       "      <th>660674</th>\n",
       "      <td>201091NM01760</td>\n",
       "      <td>Slight</td>\n",
       "      <td>18-02-2022</td>\n",
       "      <td>57.374005</td>\n",
       "      <td>Daylight</td>\n",
       "      <td>Highland</td>\n",
       "      <td>-3.467828</td>\n",
       "      <td>2</td>\n",
       "      <td>1</td>\n",
       "      <td>Dry</td>\n",
       "      <td>Single carriageway</td>\n",
       "      <td>Rural</td>\n",
       "      <td>Fine no high winds</td>\n",
       "      <td>Car</td>\n",
       "    </tr>\n",
       "    <tr>\n",
       "      <th>660675</th>\n",
       "      <td>201091NM01881</td>\n",
       "      <td>Slight</td>\n",
       "      <td>21-02-2022</td>\n",
       "      <td>57.232273</td>\n",
       "      <td>Darkness - no lighting</td>\n",
       "      <td>Highland</td>\n",
       "      <td>-3.809281</td>\n",
       "      <td>1</td>\n",
       "      <td>1</td>\n",
       "      <td>Frost or ice</td>\n",
       "      <td>Single carriageway</td>\n",
       "      <td>Rural</td>\n",
       "      <td>Fine no high winds</td>\n",
       "      <td>Car</td>\n",
       "    </tr>\n",
       "    <tr>\n",
       "      <th>660676</th>\n",
       "      <td>201091NM01935</td>\n",
       "      <td>Slight</td>\n",
       "      <td>23-02-2022</td>\n",
       "      <td>57.585044</td>\n",
       "      <td>Daylight</td>\n",
       "      <td>Highland</td>\n",
       "      <td>-3.862727</td>\n",
       "      <td>1</td>\n",
       "      <td>3</td>\n",
       "      <td>Frost or ice</td>\n",
       "      <td>Single carriageway</td>\n",
       "      <td>Rural</td>\n",
       "      <td>Fine no high winds</td>\n",
       "      <td>Car</td>\n",
       "    </tr>\n",
       "    <tr>\n",
       "      <th>660677</th>\n",
       "      <td>201091NM01964</td>\n",
       "      <td>Serious</td>\n",
       "      <td>23-02-2022</td>\n",
       "      <td>57.214898</td>\n",
       "      <td>Darkness - no lighting</td>\n",
       "      <td>Highland</td>\n",
       "      <td>-3.823997</td>\n",
       "      <td>1</td>\n",
       "      <td>2</td>\n",
       "      <td>Wet or damp</td>\n",
       "      <td>Single carriageway</td>\n",
       "      <td>Rural</td>\n",
       "      <td>Fine no high winds</td>\n",
       "      <td>Motorcycle over 500cc</td>\n",
       "    </tr>\n",
       "    <tr>\n",
       "      <th>660678</th>\n",
       "      <td>201091NM02142</td>\n",
       "      <td>Serious</td>\n",
       "      <td>28-02-2022</td>\n",
       "      <td>57.575210</td>\n",
       "      <td>Daylight</td>\n",
       "      <td>Highland</td>\n",
       "      <td>-3.895673</td>\n",
       "      <td>1</td>\n",
       "      <td>1</td>\n",
       "      <td>Wet or damp</td>\n",
       "      <td>Dual carriageway</td>\n",
       "      <td>Rural</td>\n",
       "      <td>Snowing no high winds</td>\n",
       "      <td>Car</td>\n",
       "    </tr>\n",
       "  </tbody>\n",
       "</table>\n",
       "<p>660679 rows × 14 columns</p>\n",
       "</div>"
      ],
      "text/plain": [
       "                Index Accident_Severity Accident Date   Latitude  \\\n",
       "0       200701BS64157           Serious      5/6/2019  51.506187   \n",
       "1       200701BS65737           Serious      2/7/2019  51.495029   \n",
       "2       200701BS66127           Serious    26-08-2019  51.517715   \n",
       "3       200701BS66128           Serious    16-08-2019  51.495478   \n",
       "4       200701BS66837            Slight      3/9/2019  51.488576   \n",
       "...               ...               ...           ...        ...   \n",
       "660674  201091NM01760            Slight    18-02-2022  57.374005   \n",
       "660675  201091NM01881            Slight    21-02-2022  57.232273   \n",
       "660676  201091NM01935            Slight    23-02-2022  57.585044   \n",
       "660677  201091NM01964           Serious    23-02-2022  57.214898   \n",
       "660678  201091NM02142           Serious    28-02-2022  57.575210   \n",
       "\n",
       "                   Light_Conditions           District Area  Longitude  \\\n",
       "0             Darkness - lights lit  Kensington and Chelsea  -0.209082   \n",
       "1                          Daylight  Kensington and Chelsea  -0.173647   \n",
       "2       Darkness - lighting unknown  Kensington and Chelsea  -0.210215   \n",
       "3                          Daylight  Kensington and Chelsea  -0.202731   \n",
       "4             Darkness - lights lit  Kensington and Chelsea  -0.192487   \n",
       "...                             ...                     ...        ...   \n",
       "660674                     Daylight                Highland  -3.467828   \n",
       "660675       Darkness - no lighting                Highland  -3.809281   \n",
       "660676                     Daylight                Highland  -3.862727   \n",
       "660677       Darkness - no lighting                Highland  -3.823997   \n",
       "660678                     Daylight                Highland  -3.895673   \n",
       "\n",
       "        Number_of_Casualties  Number_of_Vehicles Road_Surface_Conditions  \\\n",
       "0                          1                   2                     Dry   \n",
       "1                          1                   2             Wet or damp   \n",
       "2                          1                   3                     Dry   \n",
       "3                          1                   4                     Dry   \n",
       "4                          1                   2                     Dry   \n",
       "...                      ...                 ...                     ...   \n",
       "660674                     2                   1                     Dry   \n",
       "660675                     1                   1            Frost or ice   \n",
       "660676                     1                   3            Frost or ice   \n",
       "660677                     1                   2             Wet or damp   \n",
       "660678                     1                   1             Wet or damp   \n",
       "\n",
       "                 Road_Type Urban_or_Rural_Area     Weather_Conditions  \\\n",
       "0       Single carriageway               Urban     Fine no high winds   \n",
       "1       Single carriageway               Urban  Raining no high winds   \n",
       "2                      NaN               Urban                    NaN   \n",
       "3       Single carriageway               Urban     Fine no high winds   \n",
       "4                      NaN               Urban                    NaN   \n",
       "...                    ...                 ...                    ...   \n",
       "660674  Single carriageway               Rural     Fine no high winds   \n",
       "660675  Single carriageway               Rural     Fine no high winds   \n",
       "660676  Single carriageway               Rural     Fine no high winds   \n",
       "660677  Single carriageway               Rural     Fine no high winds   \n",
       "660678    Dual carriageway               Rural  Snowing no high winds   \n",
       "\n",
       "                                Vehicle_Type  \n",
       "0                                        Car  \n",
       "1                                        Car  \n",
       "2                      Taxi/Private hire car  \n",
       "3       Bus or coach (17 or more pass seats)  \n",
       "4                              Other vehicle  \n",
       "...                                      ...  \n",
       "660674                                   Car  \n",
       "660675                                   Car  \n",
       "660676                                   Car  \n",
       "660677                 Motorcycle over 500cc  \n",
       "660678                                   Car  \n",
       "\n",
       "[660679 rows x 14 columns]"
      ]
     },
     "execution_count": 3,
     "metadata": {},
     "output_type": "execute_result"
    }
   ],
   "source": [
    "accident"
   ]
  },
  {
   "cell_type": "code",
   "execution_count": 4,
   "id": "c00e7b32-4a54-40db-8e4b-4e254682fce8",
   "metadata": {},
   "outputs": [
    {
     "data": {
      "text/plain": [
       "Index                          0\n",
       "Accident_Severity              0\n",
       "Accident Date                  0\n",
       "Latitude                      25\n",
       "Light_Conditions               0\n",
       "District Area                  0\n",
       "Longitude                     26\n",
       "Number_of_Casualties           0\n",
       "Number_of_Vehicles             0\n",
       "Road_Surface_Conditions      726\n",
       "Road_Type                   4520\n",
       "Urban_or_Rural_Area           15\n",
       "Weather_Conditions         14128\n",
       "Vehicle_Type                   0\n",
       "dtype: int64"
      ]
     },
     "execution_count": 4,
     "metadata": {},
     "output_type": "execute_result"
    }
   ],
   "source": [
    "accident.isnull().sum()"
   ]
  },
  {
   "cell_type": "code",
   "execution_count": 5,
   "id": "e54d8ccf-f7fd-4d85-b96d-b06ed9889499",
   "metadata": {},
   "outputs": [
    {
     "name": "stdout",
     "output_type": "stream",
     "text": [
      "<class 'pandas.core.frame.DataFrame'>\n",
      "RangeIndex: 660679 entries, 0 to 660678\n",
      "Data columns (total 14 columns):\n",
      " #   Column                   Non-Null Count   Dtype  \n",
      "---  ------                   --------------   -----  \n",
      " 0   Index                    660679 non-null  object \n",
      " 1   Accident_Severity        660679 non-null  object \n",
      " 2   Accident Date            660679 non-null  object \n",
      " 3   Latitude                 660654 non-null  float64\n",
      " 4   Light_Conditions         660679 non-null  object \n",
      " 5   District Area            660679 non-null  object \n",
      " 6   Longitude                660653 non-null  float64\n",
      " 7   Number_of_Casualties     660679 non-null  int64  \n",
      " 8   Number_of_Vehicles       660679 non-null  int64  \n",
      " 9   Road_Surface_Conditions  659953 non-null  object \n",
      " 10  Road_Type                656159 non-null  object \n",
      " 11  Urban_or_Rural_Area      660664 non-null  object \n",
      " 12  Weather_Conditions       646551 non-null  object \n",
      " 13  Vehicle_Type             660679 non-null  object \n",
      "dtypes: float64(2), int64(2), object(10)\n",
      "memory usage: 70.6+ MB\n"
     ]
    }
   ],
   "source": [
    "accident.info()"
   ]
  },
  {
   "cell_type": "code",
   "execution_count": 6,
   "id": "2cca2350-bf63-4fd1-9395-dd64c1086588",
   "metadata": {},
   "outputs": [],
   "source": [
    "accident['Latitude'] = accident['Latitude'].fillna(accident['Latitude'].mean())\n",
    "accident['Longitude'] = accident['Longitude'].fillna(accident['Longitude'].mean())\n",
    "accident['Road_Surface_Conditions'] = accident['Road_Surface_Conditions'].fillna(accident['Road_Surface_Conditions'].mode()[0])\n",
    "accident['Road_Type'] = accident['Road_Type'].fillna(accident['Road_Type'].mode()[0])\n",
    "accident['Urban_or_Rural_Area'] = accident['Urban_or_Rural_Area'].fillna(accident['Urban_or_Rural_Area'].mode()[0])\n",
    "accident['Weather_Conditions'] = accident['Weather_Conditions'].fillna(accident['Weather_Conditions'].mode()[0])"
   ]
  },
  {
   "cell_type": "markdown",
   "id": "bfce6134-d4a4-43d1-9d6f-d79faa5c18fc",
   "metadata": {},
   "source": [
    "<h1> CLearing Any Inconsistencies with the Data Set</h1>"
   ]
  },
  {
   "cell_type": "code",
   "execution_count": 7,
   "id": "bf7bf3f2-401d-4e7e-a28a-0220bd8b2093",
   "metadata": {},
   "outputs": [],
   "source": [
    "accident['Accident Date'] = accident['Accident Date'].str.strip()\n",
    "\n",
    "accident['Accident Date'] = accident['Accident Date'].astype('str')\n",
    "\n",
    "accident['Accident Date'] = accident['Accident Date'].str.replace('/', '-')\n",
    "\n",
    "accident['Accident Date'] = pd.to_datetime(accident['Accident Date'], dayfirst = True, errors = 'coerce')"
   ]
  },
  {
   "cell_type": "code",
   "execution_count": 8,
   "id": "11371c4a-033e-4b5e-bbe5-4c56da18f625",
   "metadata": {},
   "outputs": [],
   "source": [
    "accident['Year'] = accident['Accident Date'].dt.year\n",
    "accident['Month'] = accident['Accident Date'].dt.month\n",
    "accident['Day'] = accident['Accident Date'].dt.day\n",
    "accident['DayOfWeek'] = accident['Accident Date'].dt.dayofweek"
   ]
  },
  {
   "cell_type": "code",
   "execution_count": 9,
   "id": "bb97980c-c78d-4390-9f72-2a2e680721df",
   "metadata": {},
   "outputs": [
    {
     "data": {
      "text/plain": [
       "Index                      0\n",
       "Accident_Severity          0\n",
       "Accident Date              0\n",
       "Latitude                   0\n",
       "Light_Conditions           0\n",
       "District Area              0\n",
       "Longitude                  0\n",
       "Number_of_Casualties       0\n",
       "Number_of_Vehicles         0\n",
       "Road_Surface_Conditions    0\n",
       "Road_Type                  0\n",
       "Urban_or_Rural_Area        0\n",
       "Weather_Conditions         0\n",
       "Vehicle_Type               0\n",
       "Year                       0\n",
       "Month                      0\n",
       "Day                        0\n",
       "DayOfWeek                  0\n",
       "dtype: int64"
      ]
     },
     "execution_count": 9,
     "metadata": {},
     "output_type": "execute_result"
    }
   ],
   "source": [
    "accident.isnull().sum()"
   ]
  },
  {
   "cell_type": "markdown",
   "id": "5aef9e24-cccb-43c5-bb6b-911cd57d3bbb",
   "metadata": {},
   "source": [
    "<h1> Questions and Insights</h1>"
   ]
  },
  {
   "cell_type": "markdown",
   "id": "ee34b301-7afc-4c28-8971-e9a398f73724",
   "metadata": {},
   "source": [
    "<h1>1) What is the overall distribution of Accident Severity (e.g., Fatal, Serious, Slight)?</h1>"
   ]
  },
  {
   "cell_type": "code",
   "execution_count": 10,
   "id": "1f814516-6646-4986-b3cb-e401ded5559a",
   "metadata": {},
   "outputs": [
    {
     "data": {
      "text/plain": [
       "Accident_Severity\n",
       "Slight     563801\n",
       "Serious     88217\n",
       "Fatal        8661\n",
       "Name: count, dtype: int64"
      ]
     },
     "execution_count": 10,
     "metadata": {},
     "output_type": "execute_result"
    }
   ],
   "source": [
    "accident['Accident_Severity'].value_counts()"
   ]
  },
  {
   "cell_type": "markdown",
   "id": "bfd8908a-2881-4121-a4ea-6b590617cb9f",
   "metadata": {},
   "source": [
    "<h2>Insights 1 ) : The overall distribution of Accidents severity are </h2>\n",
    "<h4>from the lowest being Fatal with 8661 recorded accidents<br>from the middle range being Serious with 88217 recorded accidents<br>from the lowest being Fatal with 563801 recorded accidents</h4>"
   ]
  },
  {
   "cell_type": "markdown",
   "id": "23b6990f-a20d-4d01-a9a3-fe6e24f14a38",
   "metadata": {},
   "source": [
    "<h1>2) Which District Area reports the highest number of severe accidents?</h1>"
   ]
  },
  {
   "cell_type": "code",
   "execution_count": 11,
   "id": "7b42bb1e-1df3-4d0c-ac94-2e20c4b3301f",
   "metadata": {},
   "outputs": [
    {
     "data": {
      "text/plain": [
       "Accident_Severity  District Area           \n",
       "Fatal              Birmingham                  105\n",
       "                   Leeds                        93\n",
       "                   Highland                     88\n",
       "                   East Riding of Yorkshire     85\n",
       "                   Bradford                     71\n",
       "                                              ... \n",
       "Slight             Berwick-upon-Tweed          121\n",
       "                   Shetland Islands            113\n",
       "                   Teesdale                    110\n",
       "                   Orkney Islands               96\n",
       "                   Clackmannanshire             72\n",
       "Name: count, Length: 1266, dtype: int64"
      ]
     },
     "execution_count": 11,
     "metadata": {},
     "output_type": "execute_result"
    }
   ],
   "source": [
    "accident.groupby('Accident_Severity')['District Area'].value_counts()"
   ]
  },
  {
   "cell_type": "code",
   "execution_count": 12,
   "id": "896249cd-52d2-4465-8929-c56979019d7d",
   "metadata": {},
   "outputs": [
    {
     "data": {
      "text/plain": [
       "count           8661\n",
       "unique           422\n",
       "top       Birmingham\n",
       "freq             105\n",
       "Name: District Area, dtype: object"
      ]
     },
     "execution_count": 12,
     "metadata": {},
     "output_type": "execute_result"
    }
   ],
   "source": [
    "accident[accident['Accident_Severity'] == 'Fatal']['District Area'].describe()"
   ]
  },
  {
   "cell_type": "code",
   "execution_count": 13,
   "id": "f3bd674c-7aec-4526-aabc-7a6e88d30153",
   "metadata": {},
   "outputs": [
    {
     "data": {
      "text/plain": [
       "count          88217\n",
       "unique           422\n",
       "top       Birmingham\n",
       "freq            1474\n",
       "Name: District Area, dtype: object"
      ]
     },
     "execution_count": 13,
     "metadata": {},
     "output_type": "execute_result"
    }
   ],
   "source": [
    "accident[accident['Accident_Severity'] == 'Serious']['District Area'].describe()"
   ]
  },
  {
   "cell_type": "markdown",
   "id": "d9835de0-e935-42d9-affe-9c2634181205",
   "metadata": {},
   "source": [
    "<h2>Insights 2) : The District Area with highest Severity of accident  is <b>\"Birmingham\"</b> </h2>\n",
    "<h4> With a toal value of <b> 105 Fatal accidents </b> only in Birmingham <br> and a total value of <b> 1474 Fatal accidents  </b>in Birmingham </h4>"
   ]
  },
  {
   "cell_type": "markdown",
   "id": "75d16453-80dc-4121-8496-5385529b083a",
   "metadata": {},
   "source": [
    "<h1>3) How does the number of casualties differ by Accident Severity?</h1>"
   ]
  },
  {
   "cell_type": "code",
   "execution_count": 14,
   "id": "6b62b305-d1fb-456c-a903-522815615e00",
   "metadata": {},
   "outputs": [
    {
     "data": {
      "text/html": [
       "<div>\n",
       "<style scoped>\n",
       "    .dataframe tbody tr th:only-of-type {\n",
       "        vertical-align: middle;\n",
       "    }\n",
       "\n",
       "    .dataframe tbody tr th {\n",
       "        vertical-align: top;\n",
       "    }\n",
       "\n",
       "    .dataframe thead th {\n",
       "        text-align: right;\n",
       "    }\n",
       "</style>\n",
       "<table border=\"1\" class=\"dataframe\">\n",
       "  <thead>\n",
       "    <tr style=\"text-align: right;\">\n",
       "      <th></th>\n",
       "      <th>count</th>\n",
       "      <th>mean</th>\n",
       "      <th>std</th>\n",
       "      <th>min</th>\n",
       "      <th>25%</th>\n",
       "      <th>50%</th>\n",
       "      <th>75%</th>\n",
       "      <th>max</th>\n",
       "    </tr>\n",
       "    <tr>\n",
       "      <th>Accident_Severity</th>\n",
       "      <th></th>\n",
       "      <th></th>\n",
       "      <th></th>\n",
       "      <th></th>\n",
       "      <th></th>\n",
       "      <th></th>\n",
       "      <th></th>\n",
       "      <th></th>\n",
       "    </tr>\n",
       "  </thead>\n",
       "  <tbody>\n",
       "    <tr>\n",
       "      <th>Fatal</th>\n",
       "      <td>8661.0</td>\n",
       "      <td>1.903129</td>\n",
       "      <td>1.901614</td>\n",
       "      <td>1.0</td>\n",
       "      <td>1.0</td>\n",
       "      <td>1.0</td>\n",
       "      <td>2.0</td>\n",
       "      <td>68.0</td>\n",
       "    </tr>\n",
       "    <tr>\n",
       "      <th>Serious</th>\n",
       "      <td>88217.0</td>\n",
       "      <td>1.467280</td>\n",
       "      <td>1.027915</td>\n",
       "      <td>1.0</td>\n",
       "      <td>1.0</td>\n",
       "      <td>1.0</td>\n",
       "      <td>2.0</td>\n",
       "      <td>45.0</td>\n",
       "    </tr>\n",
       "    <tr>\n",
       "      <th>Slight</th>\n",
       "      <td>563801.0</td>\n",
       "      <td>1.331402</td>\n",
       "      <td>0.754502</td>\n",
       "      <td>1.0</td>\n",
       "      <td>1.0</td>\n",
       "      <td>1.0</td>\n",
       "      <td>1.0</td>\n",
       "      <td>47.0</td>\n",
       "    </tr>\n",
       "  </tbody>\n",
       "</table>\n",
       "</div>"
      ],
      "text/plain": [
       "                      count      mean       std  min  25%  50%  75%   max\n",
       "Accident_Severity                                                        \n",
       "Fatal                8661.0  1.903129  1.901614  1.0  1.0  1.0  2.0  68.0\n",
       "Serious             88217.0  1.467280  1.027915  1.0  1.0  1.0  2.0  45.0\n",
       "Slight             563801.0  1.331402  0.754502  1.0  1.0  1.0  1.0  47.0"
      ]
     },
     "execution_count": 14,
     "metadata": {},
     "output_type": "execute_result"
    }
   ],
   "source": [
    "accident.groupby('Accident_Severity')['Number_of_Casualties'].describe()"
   ]
  },
  {
   "cell_type": "code",
   "execution_count": 15,
   "id": "e167d130-3f41-4639-8b31-92032d171bf5",
   "metadata": {},
   "outputs": [
    {
     "data": {
      "text/plain": [
       "Accident_Severity\n",
       "Fatal      1.903129\n",
       "Serious    1.467280\n",
       "Slight     1.331402\n",
       "Name: Number_of_Casualties, dtype: float64"
      ]
     },
     "execution_count": 15,
     "metadata": {},
     "output_type": "execute_result"
    }
   ],
   "source": [
    "accident.groupby('Accident_Severity')['Number_of_Casualties'].mean()"
   ]
  },
  {
   "cell_type": "markdown",
   "id": "748d1ca6-3d35-4da8-9bee-bec1c40b3731",
   "metadata": {},
   "source": [
    "<h2> Insights 3 ) : The number of Casualties by Accident severity (Serious, Slight, Fatal) </h2>\n",
    "<h4> Most accidents across all severity levels involve only one casualty, but Fatal accidents tend to have more people affected on average (≈1.9 per accident) compared to Serious (≈1.5) and Slight (≈1.3). This suggests that when an accident is fatal, it is more likely to involve multiple casualties, and although rare, some accidents can result in extremely high casualty counts (up to 68).</h4>"
   ]
  },
  {
   "cell_type": "markdown",
   "id": "dedeb727-e7f0-4704-ad09-16b3b60beef5",
   "metadata": {},
   "source": [
    "<h1>4) On average, how many vehicles are involved in accidents by severity level?</h1>"
   ]
  },
  {
   "cell_type": "code",
   "execution_count": 16,
   "id": "5081320a-9bb6-4ae0-9007-f3e6ffb27740",
   "metadata": {},
   "outputs": [
    {
     "data": {
      "text/html": [
       "<div>\n",
       "<style scoped>\n",
       "    .dataframe tbody tr th:only-of-type {\n",
       "        vertical-align: middle;\n",
       "    }\n",
       "\n",
       "    .dataframe tbody tr th {\n",
       "        vertical-align: top;\n",
       "    }\n",
       "\n",
       "    .dataframe thead th {\n",
       "        text-align: right;\n",
       "    }\n",
       "</style>\n",
       "<table border=\"1\" class=\"dataframe\">\n",
       "  <thead>\n",
       "    <tr style=\"text-align: right;\">\n",
       "      <th></th>\n",
       "      <th>count</th>\n",
       "      <th>mean</th>\n",
       "      <th>std</th>\n",
       "      <th>min</th>\n",
       "      <th>25%</th>\n",
       "      <th>50%</th>\n",
       "      <th>75%</th>\n",
       "      <th>max</th>\n",
       "    </tr>\n",
       "    <tr>\n",
       "      <th>Accident_Severity</th>\n",
       "      <th></th>\n",
       "      <th></th>\n",
       "      <th></th>\n",
       "      <th></th>\n",
       "      <th></th>\n",
       "      <th></th>\n",
       "      <th></th>\n",
       "      <th></th>\n",
       "    </tr>\n",
       "  </thead>\n",
       "  <tbody>\n",
       "    <tr>\n",
       "      <th>Fatal</th>\n",
       "      <td>8661.0</td>\n",
       "      <td>1.786976</td>\n",
       "      <td>1.022719</td>\n",
       "      <td>1.0</td>\n",
       "      <td>1.0</td>\n",
       "      <td>2.0</td>\n",
       "      <td>2.0</td>\n",
       "      <td>28.0</td>\n",
       "    </tr>\n",
       "    <tr>\n",
       "      <th>Serious</th>\n",
       "      <td>88217.0</td>\n",
       "      <td>1.678327</td>\n",
       "      <td>0.751475</td>\n",
       "      <td>1.0</td>\n",
       "      <td>1.0</td>\n",
       "      <td>2.0</td>\n",
       "      <td>2.0</td>\n",
       "      <td>19.0</td>\n",
       "    </tr>\n",
       "    <tr>\n",
       "      <th>Slight</th>\n",
       "      <td>563801.0</td>\n",
       "      <td>1.855864</td>\n",
       "      <td>0.700571</td>\n",
       "      <td>1.0</td>\n",
       "      <td>1.0</td>\n",
       "      <td>2.0</td>\n",
       "      <td>2.0</td>\n",
       "      <td>32.0</td>\n",
       "    </tr>\n",
       "  </tbody>\n",
       "</table>\n",
       "</div>"
      ],
      "text/plain": [
       "                      count      mean       std  min  25%  50%  75%   max\n",
       "Accident_Severity                                                        \n",
       "Fatal                8661.0  1.786976  1.022719  1.0  1.0  2.0  2.0  28.0\n",
       "Serious             88217.0  1.678327  0.751475  1.0  1.0  2.0  2.0  19.0\n",
       "Slight             563801.0  1.855864  0.700571  1.0  1.0  2.0  2.0  32.0"
      ]
     },
     "execution_count": 16,
     "metadata": {},
     "output_type": "execute_result"
    }
   ],
   "source": [
    "accident.groupby('Accident_Severity')['Number_of_Vehicles'].describe()"
   ]
  },
  {
   "cell_type": "code",
   "execution_count": 17,
   "id": "d840faf2-d1c1-40f6-b652-46325ec7d48c",
   "metadata": {},
   "outputs": [
    {
     "data": {
      "text/plain": [
       "Accident_Severity\n",
       "Fatal      1.786976\n",
       "Serious    1.678327\n",
       "Slight     1.855864\n",
       "Name: Number_of_Vehicles, dtype: float64"
      ]
     },
     "execution_count": 17,
     "metadata": {},
     "output_type": "execute_result"
    }
   ],
   "source": [
    "accident.groupby('Accident_Severity')['Number_of_Vehicles'].mean()"
   ]
  },
  {
   "cell_type": "markdown",
   "id": "8853e3b4-0ecd-491e-9246-e88a0508128a",
   "metadata": {},
   "source": [
    "<h2> Insights 4) : </h2> \n",
    " <h4>   <br> For every severity level there is an average of <b>1.786976 vehicles</b> for cases that has severity of fatal, <b>1.678327 vehicles</b> for cases that are serious, whilst on Slight <b> 1.855864 vehicles</b> involve in accidents</h4>"
   ]
  },
  {
   "cell_type": "markdown",
   "id": "4ff039b9-ddd9-4f82-9c4b-c328c4646c5c",
   "metadata": {},
   "source": [
    "<h1>5) Which dates had the highest accident counts?</h1>"
   ]
  },
  {
   "cell_type": "code",
   "execution_count": 18,
   "id": "368e34da-31c3-4dcb-90ac-299e619e2793",
   "metadata": {},
   "outputs": [
    {
     "data": {
      "text/plain": [
       "Accident Date\n",
       "2019-11-30    704\n",
       "2019-01-31    697\n",
       "2019-07-13    692\n",
       "2021-11-13    692\n",
       "2019-08-14    688\n",
       "             ... \n",
       "2022-12-30    171\n",
       "2019-12-25    157\n",
       "2022-12-25    145\n",
       "2022-01-10    123\n",
       "2020-12-25    118\n",
       "Name: count, Length: 1461, dtype: int64"
      ]
     },
     "execution_count": 18,
     "metadata": {},
     "output_type": "execute_result"
    }
   ],
   "source": [
    "accident['Accident Date'].value_counts()"
   ]
  },
  {
   "cell_type": "markdown",
   "id": "5e712f51-4fc6-45a0-998e-9d1b8a39a2a1",
   "metadata": {},
   "source": [
    "<h2> Insights 5) : The top 3 dates with the highest accidents occured are the following  </h2>\n",
    "<h4>- November 11, 2019 </b> with <b> 704 accidents </b> that happened <br>  <b>- January 1, 2019 </b> with <b> 697 accidents </b> that occured<br> <b>- July 13, 2019 </b> with <b> 692 accidents </b> that occured</h4>"
   ]
  },
  {
   "cell_type": "markdown",
   "id": "f11bc109-9eda-4259-b287-d65bd2e66a8d",
   "metadata": {},
   "source": [
    "<h1>6) Is accident severity correlated with the number of casualties??</h1>"
   ]
  },
  {
   "cell_type": "code",
   "execution_count": 19,
   "id": "53921f3d-e84c-4e5a-a794-5e9d646eaa8f",
   "metadata": {},
   "outputs": [
    {
     "data": {
      "text/html": [
       "<div>\n",
       "<style scoped>\n",
       "    .dataframe tbody tr th:only-of-type {\n",
       "        vertical-align: middle;\n",
       "    }\n",
       "\n",
       "    .dataframe tbody tr th {\n",
       "        vertical-align: top;\n",
       "    }\n",
       "\n",
       "    .dataframe thead th {\n",
       "        text-align: right;\n",
       "    }\n",
       "</style>\n",
       "<table border=\"1\" class=\"dataframe\">\n",
       "  <thead>\n",
       "    <tr style=\"text-align: right;\">\n",
       "      <th></th>\n",
       "      <th>Accident Date</th>\n",
       "      <th>Latitude</th>\n",
       "      <th>Longitude</th>\n",
       "      <th>Number_of_Casualties</th>\n",
       "      <th>Number_of_Vehicles</th>\n",
       "      <th>Year</th>\n",
       "      <th>Month</th>\n",
       "      <th>Day</th>\n",
       "      <th>DayOfWeek</th>\n",
       "    </tr>\n",
       "  </thead>\n",
       "  <tbody>\n",
       "    <tr>\n",
       "      <th>count</th>\n",
       "      <td>660679</td>\n",
       "      <td>660679.000000</td>\n",
       "      <td>660679.000000</td>\n",
       "      <td>660679.000000</td>\n",
       "      <td>660679.000000</td>\n",
       "      <td>660679.000000</td>\n",
       "      <td>660679.000000</td>\n",
       "      <td>660679.000000</td>\n",
       "      <td>660679.000000</td>\n",
       "    </tr>\n",
       "    <tr>\n",
       "      <th>mean</th>\n",
       "      <td>2020-11-30 08:30:32.761749760</td>\n",
       "      <td>52.553866</td>\n",
       "      <td>-1.431210</td>\n",
       "      <td>1.357040</td>\n",
       "      <td>1.831255</td>\n",
       "      <td>2020.409090</td>\n",
       "      <td>6.607965</td>\n",
       "      <td>15.581350</td>\n",
       "      <td>3.111195</td>\n",
       "    </tr>\n",
       "    <tr>\n",
       "      <th>min</th>\n",
       "      <td>2019-01-01 00:00:00</td>\n",
       "      <td>49.914430</td>\n",
       "      <td>-7.516225</td>\n",
       "      <td>1.000000</td>\n",
       "      <td>1.000000</td>\n",
       "      <td>2019.000000</td>\n",
       "      <td>1.000000</td>\n",
       "      <td>1.000000</td>\n",
       "      <td>0.000000</td>\n",
       "    </tr>\n",
       "    <tr>\n",
       "      <th>25%</th>\n",
       "      <td>2019-11-27 00:00:00</td>\n",
       "      <td>51.490696</td>\n",
       "      <td>-2.332191</td>\n",
       "      <td>1.000000</td>\n",
       "      <td>1.000000</td>\n",
       "      <td>2019.000000</td>\n",
       "      <td>4.000000</td>\n",
       "      <td>8.000000</td>\n",
       "      <td>1.000000</td>\n",
       "    </tr>\n",
       "    <tr>\n",
       "      <th>50%</th>\n",
       "      <td>2020-11-13 00:00:00</td>\n",
       "      <td>52.315755</td>\n",
       "      <td>-1.411761</td>\n",
       "      <td>1.000000</td>\n",
       "      <td>2.000000</td>\n",
       "      <td>2020.000000</td>\n",
       "      <td>7.000000</td>\n",
       "      <td>16.000000</td>\n",
       "      <td>3.000000</td>\n",
       "    </tr>\n",
       "    <tr>\n",
       "      <th>75%</th>\n",
       "      <td>2021-11-17 00:00:00</td>\n",
       "      <td>53.453444</td>\n",
       "      <td>-0.232901</td>\n",
       "      <td>1.000000</td>\n",
       "      <td>2.000000</td>\n",
       "      <td>2021.000000</td>\n",
       "      <td>10.000000</td>\n",
       "      <td>23.000000</td>\n",
       "      <td>5.000000</td>\n",
       "    </tr>\n",
       "    <tr>\n",
       "      <th>max</th>\n",
       "      <td>2022-12-31 00:00:00</td>\n",
       "      <td>60.757544</td>\n",
       "      <td>1.762010</td>\n",
       "      <td>68.000000</td>\n",
       "      <td>32.000000</td>\n",
       "      <td>2022.000000</td>\n",
       "      <td>12.000000</td>\n",
       "      <td>31.000000</td>\n",
       "      <td>6.000000</td>\n",
       "    </tr>\n",
       "    <tr>\n",
       "      <th>std</th>\n",
       "      <td>NaN</td>\n",
       "      <td>1.406896</td>\n",
       "      <td>1.383302</td>\n",
       "      <td>0.824847</td>\n",
       "      <td>0.715269</td>\n",
       "      <td>1.109152</td>\n",
       "      <td>3.420701</td>\n",
       "      <td>8.764863</td>\n",
       "      <td>1.927284</td>\n",
       "    </tr>\n",
       "  </tbody>\n",
       "</table>\n",
       "</div>"
      ],
      "text/plain": [
       "                       Accident Date       Latitude      Longitude  \\\n",
       "count                         660679  660679.000000  660679.000000   \n",
       "mean   2020-11-30 08:30:32.761749760      52.553866      -1.431210   \n",
       "min              2019-01-01 00:00:00      49.914430      -7.516225   \n",
       "25%              2019-11-27 00:00:00      51.490696      -2.332191   \n",
       "50%              2020-11-13 00:00:00      52.315755      -1.411761   \n",
       "75%              2021-11-17 00:00:00      53.453444      -0.232901   \n",
       "max              2022-12-31 00:00:00      60.757544       1.762010   \n",
       "std                              NaN       1.406896       1.383302   \n",
       "\n",
       "       Number_of_Casualties  Number_of_Vehicles           Year          Month  \\\n",
       "count         660679.000000       660679.000000  660679.000000  660679.000000   \n",
       "mean               1.357040            1.831255    2020.409090       6.607965   \n",
       "min                1.000000            1.000000    2019.000000       1.000000   \n",
       "25%                1.000000            1.000000    2019.000000       4.000000   \n",
       "50%                1.000000            2.000000    2020.000000       7.000000   \n",
       "75%                1.000000            2.000000    2021.000000      10.000000   \n",
       "max               68.000000           32.000000    2022.000000      12.000000   \n",
       "std                0.824847            0.715269       1.109152       3.420701   \n",
       "\n",
       "                 Day      DayOfWeek  \n",
       "count  660679.000000  660679.000000  \n",
       "mean       15.581350       3.111195  \n",
       "min         1.000000       0.000000  \n",
       "25%         8.000000       1.000000  \n",
       "50%        16.000000       3.000000  \n",
       "75%        23.000000       5.000000  \n",
       "max        31.000000       6.000000  \n",
       "std         8.764863       1.927284  "
      ]
     },
     "execution_count": 19,
     "metadata": {},
     "output_type": "execute_result"
    }
   ],
   "source": [
    "accident.describe()"
   ]
  },
  {
   "cell_type": "code",
   "execution_count": 20,
   "id": "4febaf55-b176-48cb-be83-195604c65f19",
   "metadata": {},
   "outputs": [
    {
     "name": "stdout",
     "output_type": "stream",
     "text": [
      "F-statistic: 16.46205778233313\n",
      "p-value: 7.092466280735782e-08\n"
     ]
    }
   ],
   "source": [
    "groups = [\n",
    "    grp.index.values\n",
    "    for name, grp in accident.groupby(\"Accident_Severity\")\n",
    "]\n",
    "\n",
    "f_stat, p_val = f_oneway(*groups)\n",
    "\n",
    "print(\"F-statistic:\", f_stat)\n",
    "print(\"p-value:\", p_val)"
   ]
  },
  {
   "cell_type": "markdown",
   "id": "c4b957cf-70dc-4b67-888f-ae826031c411",
   "metadata": {},
   "source": [
    "<h2> Insights 6) </h2>\n",
    "<h4>: The results show that there is a clear difference between the accident severity groups. The very small p-value means the differences are not due to chance. This suggests that the factor we tested is strongly linked to the level of accident severity. </h4>"
   ]
  },
  {
   "cell_type": "markdown",
   "id": "c46f8e90-98c7-4cf1-8975-ebe54d80a7da",
   "metadata": {},
   "source": [
    "<h1>7) Do accidents cluster more in urban or rural areas?</h1>"
   ]
  },
  {
   "cell_type": "code",
   "execution_count": 21,
   "id": "b7660117-aeb4-411c-a0d5-5778eb690b51",
   "metadata": {},
   "outputs": [
    {
     "data": {
      "text/plain": [
       "Urban_or_Rural_Area\n",
       "Urban          421678\n",
       "Rural          238990\n",
       "Unallocated        11\n",
       "Name: count, dtype: int64"
      ]
     },
     "execution_count": 21,
     "metadata": {},
     "output_type": "execute_result"
    }
   ],
   "source": [
    "accident['Urban_or_Rural_Area'].value_counts()"
   ]
  },
  {
   "cell_type": "markdown",
   "id": "9d667402-b163-4f4c-8cf8-ffca8c57db85",
   "metadata": {},
   "source": [
    "<h2> Insights 7) </h2>\n",
    "<h4>: According to the Data accidents usually happens on Urban areas with 421,678 cases of accidents and 238,990 cases on Rural areas </h4>"
   ]
  },
  {
   "cell_type": "markdown",
   "id": "ece74128-8e43-4532-aaba-91c73eec231b",
   "metadata": {},
   "source": [
    "<h1>8) Is there a correlation between the number of vehicles involved and the number of casualties?</h1>"
   ]
  },
  {
   "cell_type": "code",
   "execution_count": 22,
   "id": "f0521103-00f6-494f-b2b4-fc759b361c50",
   "metadata": {},
   "outputs": [
    {
     "data": {
      "text/plain": [
       "np.float64(0.22888886126927557)"
      ]
     },
     "execution_count": 22,
     "metadata": {},
     "output_type": "execute_result"
    }
   ],
   "source": [
    "accident['Number_of_Vehicles'].corr(accident['Number_of_Casualties'])"
   ]
  },
  {
   "cell_type": "markdown",
   "id": "3168d194-3af1-4520-a115-6c7902168ff4",
   "metadata": {},
   "source": [
    "<h2> Insights 8) :</h2>\n",
    "    <h4> There is a <b> Weak positive correlation (0.22) </b> between The number of Vehicles involved and the number of casualties as the results showed </h4>"
   ]
  },
  {
   "cell_type": "markdown",
   "id": "79955f31-71d4-41b1-a6f6-d962121efb24",
   "metadata": {},
   "source": [
    "<h1>9) How do Weather Conditions impact accident severity?</h1>"
   ]
  },
  {
   "cell_type": "code",
   "execution_count": 23,
   "id": "6d4b21de-5c7d-4825-bc00-14d52be85715",
   "metadata": {},
   "outputs": [
    {
     "data": {
      "text/html": [
       "<div>\n",
       "<style scoped>\n",
       "    .dataframe tbody tr th:only-of-type {\n",
       "        vertical-align: middle;\n",
       "    }\n",
       "\n",
       "    .dataframe tbody tr th {\n",
       "        vertical-align: top;\n",
       "    }\n",
       "\n",
       "    .dataframe thead th {\n",
       "        text-align: right;\n",
       "    }\n",
       "</style>\n",
       "<table border=\"1\" class=\"dataframe\">\n",
       "  <thead>\n",
       "    <tr style=\"text-align: right;\">\n",
       "      <th></th>\n",
       "      <th>count</th>\n",
       "      <th>unique</th>\n",
       "      <th>top</th>\n",
       "      <th>freq</th>\n",
       "    </tr>\n",
       "    <tr>\n",
       "      <th>Accident_Severity</th>\n",
       "      <th></th>\n",
       "      <th></th>\n",
       "      <th></th>\n",
       "      <th></th>\n",
       "    </tr>\n",
       "  </thead>\n",
       "  <tbody>\n",
       "    <tr>\n",
       "      <th>Fatal</th>\n",
       "      <td>8661</td>\n",
       "      <td>8</td>\n",
       "      <td>Fine no high winds</td>\n",
       "      <td>7207</td>\n",
       "    </tr>\n",
       "    <tr>\n",
       "      <th>Serious</th>\n",
       "      <td>88217</td>\n",
       "      <td>8</td>\n",
       "      <td>Fine no high winds</td>\n",
       "      <td>73285</td>\n",
       "    </tr>\n",
       "    <tr>\n",
       "      <th>Slight</th>\n",
       "      <td>563801</td>\n",
       "      <td>8</td>\n",
       "      <td>Fine no high winds</td>\n",
       "      <td>454521</td>\n",
       "    </tr>\n",
       "  </tbody>\n",
       "</table>\n",
       "</div>"
      ],
      "text/plain": [
       "                    count unique                 top    freq\n",
       "Accident_Severity                                           \n",
       "Fatal                8661      8  Fine no high winds    7207\n",
       "Serious             88217      8  Fine no high winds   73285\n",
       "Slight             563801      8  Fine no high winds  454521"
      ]
     },
     "execution_count": 23,
     "metadata": {},
     "output_type": "execute_result"
    }
   ],
   "source": [
    "accident.groupby('Accident_Severity')['Weather_Conditions'].describe()"
   ]
  },
  {
   "cell_type": "markdown",
   "id": "93eae133-27f9-4eb3-afec-6a1944648bfc",
   "metadata": {},
   "source": [
    "<h2> Insights 9) : </h2>\n",
    "    <h4> The weather doesn't seem to impact the Severity of accidents, as most accidents happens during <b> Fine no high winds </b> rather than what was thought to be rainy days</h4>"
   ]
  },
  {
   "cell_type": "markdown",
   "id": "7e93255c-12d1-4b2c-b2e1-d784228493e3",
   "metadata": {},
   "source": [
    "<h1>10) What is the relationship between Light Conditions (daylight, darkness, streetlights) and accidents?</h1>"
   ]
  },
  {
   "cell_type": "code",
   "execution_count": 24,
   "id": "0b287c31-aef4-4928-9efb-b9be508cf227",
   "metadata": {},
   "outputs": [
    {
     "name": "stdout",
     "output_type": "stream",
     "text": [
      "F-statistic: 534.4033532420921\n",
      "p-value: 0.0\n"
     ]
    }
   ],
   "source": [
    "from scipy.stats import f_oneway\n",
    "\n",
    "groups = [\n",
    "    grp[\"Number_of_Casualties\"].dropna().values\n",
    "    for name, grp in accident.groupby(\"Light_Conditions\")\n",
    "]\n",
    "\n",
    "f_stat, p_val = f_oneway(*groups)\n",
    "\n",
    "print(\"F-statistic:\", f_stat)\n",
    "print(\"p-value:\", p_val)\n"
   ]
  },
  {
   "cell_type": "code",
   "execution_count": 25,
   "id": "497f73cf-6c03-4dac-8a8a-98809d0f32f0",
   "metadata": {},
   "outputs": [
    {
     "data": {
      "text/plain": [
       "Light_Conditions\n",
       "Daylight                       484880\n",
       "Darkness - lights lit          129335\n",
       "Darkness - no lighting          37437\n",
       "Darkness - lighting unknown      6484\n",
       "Darkness - lights unlit          2543\n",
       "Name: count, dtype: int64"
      ]
     },
     "execution_count": 25,
     "metadata": {},
     "output_type": "execute_result"
    }
   ],
   "source": [
    "acc = accident['Light_Conditions'].value_counts()\n",
    "acc"
   ]
  },
  {
   "cell_type": "markdown",
   "id": "27e46e58-74e9-46a3-a974-32f05d5c2fb4",
   "metadata": {},
   "source": [
    "<h2> Insights 10) : </h2>\n",
    "<h4> According to the data There is a lot more accidents that happens on Broad Daylight as it was during night hours when there are no Lights</h>"
   ]
  },
  {
   "cell_type": "markdown",
   "id": "9a2f645b-6746-46ee-b399-5d5b7749a749",
   "metadata": {},
   "source": [
    "<h2> Insights 11) : </h2>\n",
    "<h4> According to the data the is no relation between Light conditions and accident</h4>"
   ]
  },
  {
   "cell_type": "markdown",
   "id": "ec6810a9-07f0-42b5-ba91-0ddd6043e97a",
   "metadata": {},
   "source": [
    "<h1>11) Do Road Surface Conditions (dry, wet, icy) affect the number of casualties?</h1>"
   ]
  },
  {
   "cell_type": "code",
   "execution_count": 26,
   "id": "bba5ba7b-1596-45a4-8825-24e39c162043",
   "metadata": {},
   "outputs": [
    {
     "data": {
      "text/html": [
       "<div>\n",
       "<style scoped>\n",
       "    .dataframe tbody tr th:only-of-type {\n",
       "        vertical-align: middle;\n",
       "    }\n",
       "\n",
       "    .dataframe tbody tr th {\n",
       "        vertical-align: top;\n",
       "    }\n",
       "\n",
       "    .dataframe thead th {\n",
       "        text-align: right;\n",
       "    }\n",
       "</style>\n",
       "<table border=\"1\" class=\"dataframe\">\n",
       "  <thead>\n",
       "    <tr style=\"text-align: right;\">\n",
       "      <th></th>\n",
       "      <th>count</th>\n",
       "      <th>mean</th>\n",
       "      <th>std</th>\n",
       "      <th>min</th>\n",
       "      <th>25%</th>\n",
       "      <th>50%</th>\n",
       "      <th>75%</th>\n",
       "      <th>max</th>\n",
       "    </tr>\n",
       "    <tr>\n",
       "      <th>Road_Surface_Conditions</th>\n",
       "      <th></th>\n",
       "      <th></th>\n",
       "      <th></th>\n",
       "      <th></th>\n",
       "      <th></th>\n",
       "      <th></th>\n",
       "      <th></th>\n",
       "      <th></th>\n",
       "    </tr>\n",
       "  </thead>\n",
       "  <tbody>\n",
       "    <tr>\n",
       "      <th>Dry</th>\n",
       "      <td>448547.0</td>\n",
       "      <td>1.334545</td>\n",
       "      <td>0.794438</td>\n",
       "      <td>1.0</td>\n",
       "      <td>1.0</td>\n",
       "      <td>1.0</td>\n",
       "      <td>1.0</td>\n",
       "      <td>45.0</td>\n",
       "    </tr>\n",
       "    <tr>\n",
       "      <th>Flood over 3cm. deep</th>\n",
       "      <td>1017.0</td>\n",
       "      <td>1.495575</td>\n",
       "      <td>0.977216</td>\n",
       "      <td>1.0</td>\n",
       "      <td>1.0</td>\n",
       "      <td>1.0</td>\n",
       "      <td>2.0</td>\n",
       "      <td>9.0</td>\n",
       "    </tr>\n",
       "    <tr>\n",
       "      <th>Frost or ice</th>\n",
       "      <td>18517.0</td>\n",
       "      <td>1.348815</td>\n",
       "      <td>0.838040</td>\n",
       "      <td>1.0</td>\n",
       "      <td>1.0</td>\n",
       "      <td>1.0</td>\n",
       "      <td>1.0</td>\n",
       "      <td>48.0</td>\n",
       "    </tr>\n",
       "    <tr>\n",
       "      <th>Snow</th>\n",
       "      <td>5890.0</td>\n",
       "      <td>1.359593</td>\n",
       "      <td>0.765221</td>\n",
       "      <td>1.0</td>\n",
       "      <td>1.0</td>\n",
       "      <td>1.0</td>\n",
       "      <td>2.0</td>\n",
       "      <td>18.0</td>\n",
       "    </tr>\n",
       "    <tr>\n",
       "      <th>Wet or damp</th>\n",
       "      <td>186708.0</td>\n",
       "      <td>1.411064</td>\n",
       "      <td>0.890931</td>\n",
       "      <td>1.0</td>\n",
       "      <td>1.0</td>\n",
       "      <td>1.0</td>\n",
       "      <td>2.0</td>\n",
       "      <td>68.0</td>\n",
       "    </tr>\n",
       "  </tbody>\n",
       "</table>\n",
       "</div>"
      ],
      "text/plain": [
       "                            count      mean       std  min  25%  50%  75%  \\\n",
       "Road_Surface_Conditions                                                     \n",
       "Dry                      448547.0  1.334545  0.794438  1.0  1.0  1.0  1.0   \n",
       "Flood over 3cm. deep       1017.0  1.495575  0.977216  1.0  1.0  1.0  2.0   \n",
       "Frost or ice              18517.0  1.348815  0.838040  1.0  1.0  1.0  1.0   \n",
       "Snow                       5890.0  1.359593  0.765221  1.0  1.0  1.0  2.0   \n",
       "Wet or damp              186708.0  1.411064  0.890931  1.0  1.0  1.0  2.0   \n",
       "\n",
       "                          max  \n",
       "Road_Surface_Conditions        \n",
       "Dry                      45.0  \n",
       "Flood over 3cm. deep      9.0  \n",
       "Frost or ice             48.0  \n",
       "Snow                     18.0  \n",
       "Wet or damp              68.0  "
      ]
     },
     "execution_count": 26,
     "metadata": {},
     "output_type": "execute_result"
    }
   ],
   "source": [
    "accident.groupby('Road_Surface_Conditions')['Number_of_Casualties'].describe()"
   ]
  },
  {
   "cell_type": "markdown",
   "id": "241373c1-18e3-42ac-b79d-ea4199e13982",
   "metadata": {},
   "source": [
    "<h2> Insights 12) </h2>\n",
    "<h4> Road surface conditions does affect the number of Casualties, Having dry roads having the most amount of accidents occured compare to Wet,damp or snowy roads</h4>"
   ]
  },
  {
   "cell_type": "markdown",
   "id": "11ccf8ba-6a66-4783-9f9c-4dcb776714ac",
   "metadata": {},
   "source": [
    "<h1>12) Which Road Type (single carriageway, dual carriageway, roundabout, etc.) has the most accidents?</h1>"
   ]
  },
  {
   "cell_type": "code",
   "execution_count": 27,
   "id": "f390d381-e2fc-4948-9d32-0a1d2eaf2d12",
   "metadata": {},
   "outputs": [
    {
     "data": {
      "text/plain": [
       "Road_Type\n",
       "Single carriageway    496663\n",
       "Dual carriageway       99424\n",
       "Roundabout             43992\n",
       "One way street         13559\n",
       "Slip road               7041\n",
       "Name: count, dtype: int64"
      ]
     },
     "execution_count": 27,
     "metadata": {},
     "output_type": "execute_result"
    }
   ],
   "source": [
    "accident['Road_Type'].value_counts()"
   ]
  },
  {
   "cell_type": "markdown",
   "id": "3d286a6d-6c55-4c37-a3ba-af4089b26cb4",
   "metadata": {},
   "source": [
    "<h2> Insigths 13) : </h2>\n",
    "<h2> The type of road that has the most frequent accidents are <b> Single Carriageway </b> with a total number accidents of 496,663 </h2>"
   ]
  },
  {
   "cell_type": "markdown",
   "id": "1badd9cd-8bf0-4244-838f-3dff5331693a",
   "metadata": {},
   "source": [
    "<h1>13) Which Vehicle Type is most frequently involved in accidents?</h1>"
   ]
  },
  {
   "cell_type": "code",
   "execution_count": 28,
   "id": "775834c3-d26a-453b-8830-5dccbbf119b2",
   "metadata": {},
   "outputs": [
    {
     "data": {
      "text/plain": [
       "Vehicle_Type\n",
       "Car                                      497992\n",
       "Van / Goods 3.5 tonnes mgw or under       34160\n",
       "Bus or coach (17 or more pass seats)      25878\n",
       "Motorcycle over 500cc                     25657\n",
       "Goods 7.5 tonnes mgw and over             17307\n",
       "Motorcycle 125cc and under                15269\n",
       "Taxi/Private hire car                     13294\n",
       "Motorcycle over 125cc and up to 500cc      7656\n",
       "Motorcycle 50cc and under                  7603\n",
       "Goods over 3.5t. and under 7.5t            6096\n",
       "Other vehicle                              5637\n",
       "Minibus (8 - 16 passenger seats)           1976\n",
       "Agricultural vehicle                       1947\n",
       "Pedal cycle                                 197\n",
       "Data missing or out of range                  6\n",
       "Ridden horse                                  4\n",
       "Name: count, dtype: int64"
      ]
     },
     "execution_count": 28,
     "metadata": {},
     "output_type": "execute_result"
    }
   ],
   "source": [
    "accident['Vehicle_Type'].value_counts()"
   ]
  },
  {
   "cell_type": "markdown",
   "id": "41d8aba7-d342-4d68-8ef8-761cd9729338",
   "metadata": {},
   "source": [
    "<h2> Insights 14) :</h2>\n",
    "<h4> Vehicles such as Cars, Van and Bus are the top 3 most frequently used vehicles that are involved in accidents. Car having <b> 497,992 involved accidents </b>, Van having <b> 34,160 involved accidents </b>, and Bus having<b> 25,878 involved accidents </b></h4>"
   ]
  },
  {
   "cell_type": "markdown",
   "id": "78cfae47-4e81-40d9-8414-acbd85719763",
   "metadata": {},
   "source": [
    "<h1>14) Do motorcycles vs. cars show higher casualty counts?</h1>"
   ]
  },
  {
   "cell_type": "code",
   "execution_count": 29,
   "id": "c4cb92c5-c0e0-4f14-8322-085728417bae",
   "metadata": {},
   "outputs": [
    {
     "name": "stdout",
     "output_type": "stream",
     "text": [
      "The amount accidents that happens on motorcycles are 461826, while cars has 8963856\n"
     ]
    }
   ],
   "source": [
    "car = accident[accident['Vehicle_Type'] == 'Car'].count().sum()\n",
    "motor = accident[accident['Vehicle_Type'] == 'Motorcycle over 500cc'].count().sum()\n",
    "\n",
    "print(f'The amount accidents that happens on motorcycles are {motor}, while cars has {car}')"
   ]
  },
  {
   "cell_type": "markdown",
   "id": "b251d8f0-1777-4f4c-87ce-a3453784173a",
   "metadata": {},
   "source": [
    "<h2> Insights 15) </h2>\n",
    "<h4> According to the data Cars shows a higher casualty counts having <b> 896,3856 </b> of casualties, over Motorcylces with <b> 461,826 </b> number of casualties </h4>"
   ]
  },
  {
   "cell_type": "markdown",
   "id": "1d5f2890-f9b9-4051-9cb1-c4006897575a",
   "metadata": {},
   "source": [
    "<h1>15) What is the relationship between Number of Vehicles and Number of Casualties in an accident?</h1>"
   ]
  },
  {
   "cell_type": "code",
   "execution_count": 30,
   "id": "3072be33-2f16-49e8-ab84-4f3818855abc",
   "metadata": {},
   "outputs": [
    {
     "data": {
      "text/plain": [
       "np.float64(0.22888886126927557)"
      ]
     },
     "execution_count": 30,
     "metadata": {},
     "output_type": "execute_result"
    }
   ],
   "source": [
    "accident['Number_of_Vehicles'].corr(accident['Number_of_Casualties'])"
   ]
  },
  {
   "cell_type": "code",
   "execution_count": 31,
   "id": "89084196-0fed-4aa3-93e9-8467d385a872",
   "metadata": {},
   "outputs": [
    {
     "data": {
      "text/plain": [
       "Number_of_Vehicles\n",
       "1     200787\n",
       "2     391995\n",
       "3      52806\n",
       "4      11300\n",
       "5       2464\n",
       "6        758\n",
       "7        296\n",
       "8        147\n",
       "9         57\n",
       "10        27\n",
       "11        12\n",
       "12         7\n",
       "13         6\n",
       "14         9\n",
       "15         1\n",
       "16         4\n",
       "19         1\n",
       "28         1\n",
       "32         1\n",
       "Name: Number_of_Casualties, dtype: int64"
      ]
     },
     "execution_count": 31,
     "metadata": {},
     "output_type": "execute_result"
    }
   ],
   "source": [
    "accident.groupby('Number_of_Vehicles')['Number_of_Casualties'].count()"
   ]
  },
  {
   "cell_type": "markdown",
   "id": "23483a60-d965-4079-971e-0336b67dc134",
   "metadata": {},
   "source": [
    "<h2> Insights 16) :</h2><h4> There is a moderate positive correlation (r = 0.23) between the number of vehicles involved and the number of casualties. On average, single-vehicles accidents tend to result in more casualties than single-vehicle accidents.</h4>"
   ]
  },
  {
   "cell_type": "markdown",
   "id": "df65bff7-7bd3-4907-9a26-1059a1688f34",
   "metadata": {},
   "source": [
    "<h1>16) Are there particular District Areas where heavy vehicles cause more severe accidents?</h1>"
   ]
  },
  {
   "cell_type": "code",
   "execution_count": 32,
   "id": "fc32d62f-ccc1-494a-9bc6-d4dcd37657d7",
   "metadata": {},
   "outputs": [
    {
     "name": "stdout",
     "output_type": "stream",
     "text": [
      "<class 'pandas.core.frame.DataFrame'>\n",
      "RangeIndex: 660679 entries, 0 to 660678\n",
      "Data columns (total 18 columns):\n",
      " #   Column                   Non-Null Count   Dtype         \n",
      "---  ------                   --------------   -----         \n",
      " 0   Index                    660679 non-null  object        \n",
      " 1   Accident_Severity        660679 non-null  object        \n",
      " 2   Accident Date            660679 non-null  datetime64[ns]\n",
      " 3   Latitude                 660679 non-null  float64       \n",
      " 4   Light_Conditions         660679 non-null  object        \n",
      " 5   District Area            660679 non-null  object        \n",
      " 6   Longitude                660679 non-null  float64       \n",
      " 7   Number_of_Casualties     660679 non-null  int64         \n",
      " 8   Number_of_Vehicles       660679 non-null  int64         \n",
      " 9   Road_Surface_Conditions  660679 non-null  object        \n",
      " 10  Road_Type                660679 non-null  object        \n",
      " 11  Urban_or_Rural_Area      660679 non-null  object        \n",
      " 12  Weather_Conditions       660679 non-null  object        \n",
      " 13  Vehicle_Type             660679 non-null  object        \n",
      " 14  Year                     660679 non-null  int32         \n",
      " 15  Month                    660679 non-null  int32         \n",
      " 16  Day                      660679 non-null  int32         \n",
      " 17  DayOfWeek                660679 non-null  int32         \n",
      "dtypes: datetime64[ns](1), float64(2), int32(4), int64(2), object(9)\n",
      "memory usage: 80.6+ MB\n"
     ]
    }
   ],
   "source": [
    "accident.info()"
   ]
  },
  {
   "cell_type": "code",
   "execution_count": 33,
   "id": "16c02fa6-4c53-4dda-9f85-a21684b3678c",
   "metadata": {},
   "outputs": [
    {
     "name": "stdout",
     "output_type": "stream",
     "text": [
      "                            Vehicle_Type Accident_Severity  Count\n",
      "17   Van / Goods 3.5 tonnes mgw or under            Slight  29139\n",
      "5   Bus or coach (17 or more pass seats)            Slight  22180\n",
      "14                 Motorcycle over 500cc            Slight  21861\n",
      "8        Goods over 3.5t. and under 7.5t            Slight   5172\n",
      "16   Van / Goods 3.5 tonnes mgw or under           Serious   4554\n",
      "13                 Motorcycle over 500cc           Serious   3457\n",
      "4   Bus or coach (17 or more pass seats)           Serious   3373\n",
      "11      Minibus (8 - 16 passenger seats)            Slight   1671\n",
      "2                   Agricultural vehicle            Slight   1644\n",
      "7        Goods over 3.5t. and under 7.5t           Serious    857\n",
      "total number of accident involving heavy cars on district areas is 18\n"
     ]
    }
   ],
   "source": [
    "heavy_vehicles = [\n",
    "    'Bus or coach (17 or more pass seats)',\n",
    "    'Van / Goods 3.5 tonnes mgw or under',\n",
    "    'Motorcycle over 500cc',\n",
    "    'Goods over 3.5t. and under 7.5t',\n",
    "    'Agricultural vehicle',\n",
    "    'Minibus (8 - 16 passenger seats)'\n",
    "]\n",
    "\n",
    "# Filter for heavy vehicles\n",
    "cars = accident[accident['Vehicle_Type'].isin(heavy_vehicles)]\n",
    "\n",
    "accident_severe = cars.groupby(\n",
    "    ['Vehicle_Type', 'Accident_Severity']\n",
    ").size().reset_index(name='Count')\n",
    "\n",
    "top_severe = accident_severe.sort_values(by='Count', ascending=False)\n",
    "\n",
    "print(top_severe.head(10)) \n",
    "print(f\"total number of accident involving heavy cars on district areas is {accident_severe.value_counts().sum()}\")"
   ]
  },
  {
   "cell_type": "code",
   "execution_count": 34,
   "id": "bda82656-1c69-4803-bb01-3d0916d62b1e",
   "metadata": {},
   "outputs": [
    {
     "data": {
      "text/plain": [
       "District Area    Accident_Severity\n",
       "Birmingham       Serious              257\n",
       "Westminster      Serious              171\n",
       "Leeds            Serious              161\n",
       "Sheffield        Serious              128\n",
       "Bradford         Serious              107\n",
       "                                     ... \n",
       "Mid Devon        Fatal                  1\n",
       "Medway           Fatal                  1\n",
       "Mansfield        Fatal                  1\n",
       "Castle Point     Fatal                  1\n",
       "West Lancashire  Fatal                  1\n",
       "Name: count, Length: 794, dtype: int64"
      ]
     },
     "execution_count": 34,
     "metadata": {},
     "output_type": "execute_result"
    }
   ],
   "source": [
    "heavy_vehicles = [\n",
    "    'Bus or coach (17 or more pass seats)',\n",
    "    'Van / Goods 3.5 tonnes mgw or under',\n",
    "    'Motorcycle over 500cc',\n",
    "    'Goods over 3.5t. and under 7.5t',\n",
    "    'Agricultural vehicle',\n",
    "    'Minibus (8 - 16 passenger seats)'\n",
    "]\n",
    "\n",
    "ays = accident[\n",
    "    (accident['Vehicle_Type'].isin(heavy_vehicles)) &\n",
    "    (accident['Accident_Severity'].isin(['Fatal', 'Serious']))\n",
    "][['District Area', 'Accident_Severity']]\n",
    "\n",
    "# Count combinations\n",
    "ays.value_counts()"
   ]
  },
  {
   "cell_type": "markdown",
   "id": "07613913-cd8d-49a9-a0c2-4decea987021",
   "metadata": {},
   "source": [
    "<h2> Insights 17) : </h2> <h4> The districts area that has large amount of severe accidents (Fatal and Serious) involving heavy vehicles such as bus etc. are Birmingham District Area with 257 Serious Accidents and Westminster with 171 </h4>"
   ]
  },
  {
   "cell_type": "markdown",
   "id": "701eca9e-3682-4a72-9c05-a3af1525c0c9",
   "metadata": {},
   "source": [
    "<h2>Insights 18) : </h2><h4> Van has the most amount of severe accidents involve, that totals to 29,139. Next to it is are bus with 22,180 severe cases </h4>"
   ]
  },
  {
   "cell_type": "markdown",
   "id": "4d2b437b-646a-4e2c-a9de-3376aa5320db",
   "metadata": {},
   "source": [
    "<h1>17) Compare Urban vs. Rural accident severity distributions.</h1>"
   ]
  },
  {
   "cell_type": "code",
   "execution_count": 35,
   "id": "e5a219d3-a28f-4625-8f4d-4db44af8155f",
   "metadata": {},
   "outputs": [
    {
     "data": {
      "text/plain": [
       "Accident_Severity\n",
       "Fatal        8661\n",
       "Serious     88217\n",
       "Slight     563801\n",
       "Name: Urban_or_Rural_Area, dtype: int64"
      ]
     },
     "execution_count": 35,
     "metadata": {},
     "output_type": "execute_result"
    }
   ],
   "source": [
    "accident.groupby('Accident_Severity')['Urban_or_Rural_Area'].count()"
   ]
  },
  {
   "cell_type": "markdown",
   "id": "2ff3ef30-aaad-4ddf-af6a-4d3869628b78",
   "metadata": {
    "jp-MarkdownHeadingCollapsed": true
   },
   "source": [
    "<h2> Insights 19): </h2> <h4>According to the data Rural places has the most Fatal accidents, whereas Urban areas have the most serious and slight severity recorded cases of accidents </h4>"
   ]
  },
  {
   "cell_type": "markdown",
   "id": "5eef6875-5bdf-4348-96f9-fe9498e0a07b",
   "metadata": {},
   "source": [
    "<h1>18) Do weather conditions combined with light conditions (e.g., rain at night) show higher accident severity?</h1>"
   ]
  },
  {
   "cell_type": "code",
   "execution_count": 36,
   "id": "c2c228ea-e15d-4aba-934f-3e80f2d1c1fb",
   "metadata": {},
   "outputs": [
    {
     "data": {
      "text/plain": [
       "Light_Conditions             Weather_Conditions     Accident_Severity\n",
       "Darkness - lighting unknown  Fine + high winds      Slight                 49\n",
       "                                                    Serious                 7\n",
       "                                                    Fatal                   3\n",
       "                             Fine no high winds     Slight               4614\n",
       "                                                    Serious               662\n",
       "                                                                         ... \n",
       "Daylight                     Snowing + high winds   Serious                50\n",
       "                                                    Fatal                   1\n",
       "                             Snowing no high winds  Slight               3163\n",
       "                                                    Serious               292\n",
       "                                                    Fatal                  20\n",
       "Name: count, Length: 113, dtype: int64"
      ]
     },
     "execution_count": 36,
     "metadata": {},
     "output_type": "execute_result"
    }
   ],
   "source": [
    "accident.groupby(['Light_Conditions', 'Weather_Conditions'])['Accident_Severity'].value_counts()"
   ]
  },
  {
   "cell_type": "code",
   "execution_count": 37,
   "id": "e6a73c84-d925-489c-8e33-6e634d0ffd34",
   "metadata": {},
   "outputs": [
    {
     "data": {
      "text/html": [
       "<div>\n",
       "<style scoped>\n",
       "    .dataframe tbody tr th:only-of-type {\n",
       "        vertical-align: middle;\n",
       "    }\n",
       "\n",
       "    .dataframe tbody tr th {\n",
       "        vertical-align: top;\n",
       "    }\n",
       "\n",
       "    .dataframe thead th {\n",
       "        text-align: right;\n",
       "    }\n",
       "</style>\n",
       "<table border=\"1\" class=\"dataframe\">\n",
       "  <thead>\n",
       "    <tr style=\"text-align: right;\">\n",
       "      <th></th>\n",
       "      <th></th>\n",
       "      <th>count</th>\n",
       "      <th>unique</th>\n",
       "      <th>top</th>\n",
       "      <th>freq</th>\n",
       "    </tr>\n",
       "    <tr>\n",
       "      <th>Light_Conditions</th>\n",
       "      <th>Weather_Conditions</th>\n",
       "      <th></th>\n",
       "      <th></th>\n",
       "      <th></th>\n",
       "      <th></th>\n",
       "    </tr>\n",
       "  </thead>\n",
       "  <tbody>\n",
       "    <tr>\n",
       "      <th rowspan=\"8\" valign=\"top\">Darkness - lighting unknown</th>\n",
       "      <th>Fine + high winds</th>\n",
       "      <td>59</td>\n",
       "      <td>3</td>\n",
       "      <td>Slight</td>\n",
       "      <td>49</td>\n",
       "    </tr>\n",
       "    <tr>\n",
       "      <th>Fine no high winds</th>\n",
       "      <td>5333</td>\n",
       "      <td>3</td>\n",
       "      <td>Slight</td>\n",
       "      <td>4614</td>\n",
       "    </tr>\n",
       "    <tr>\n",
       "      <th>Fog or mist</th>\n",
       "      <td>65</td>\n",
       "      <td>2</td>\n",
       "      <td>Slight</td>\n",
       "      <td>59</td>\n",
       "    </tr>\n",
       "    <tr>\n",
       "      <th>Other</th>\n",
       "      <td>186</td>\n",
       "      <td>3</td>\n",
       "      <td>Slight</td>\n",
       "      <td>154</td>\n",
       "    </tr>\n",
       "    <tr>\n",
       "      <th>Raining + high winds</th>\n",
       "      <td>111</td>\n",
       "      <td>3</td>\n",
       "      <td>Slight</td>\n",
       "      <td>95</td>\n",
       "    </tr>\n",
       "    <tr>\n",
       "      <th>Raining no high winds</th>\n",
       "      <td>621</td>\n",
       "      <td>3</td>\n",
       "      <td>Slight</td>\n",
       "      <td>550</td>\n",
       "    </tr>\n",
       "    <tr>\n",
       "      <th>Snowing + high winds</th>\n",
       "      <td>15</td>\n",
       "      <td>1</td>\n",
       "      <td>Slight</td>\n",
       "      <td>15</td>\n",
       "    </tr>\n",
       "    <tr>\n",
       "      <th>Snowing no high winds</th>\n",
       "      <td>94</td>\n",
       "      <td>2</td>\n",
       "      <td>Slight</td>\n",
       "      <td>86</td>\n",
       "    </tr>\n",
       "    <tr>\n",
       "      <th rowspan=\"8\" valign=\"top\">Darkness - lights lit</th>\n",
       "      <th>Fine + high winds</th>\n",
       "      <td>1852</td>\n",
       "      <td>3</td>\n",
       "      <td>Slight</td>\n",
       "      <td>1497</td>\n",
       "    </tr>\n",
       "    <tr>\n",
       "      <th>Fine no high winds</th>\n",
       "      <td>93958</td>\n",
       "      <td>3</td>\n",
       "      <td>Slight</td>\n",
       "      <td>77944</td>\n",
       "    </tr>\n",
       "    <tr>\n",
       "      <th>Fog or mist</th>\n",
       "      <td>921</td>\n",
       "      <td>3</td>\n",
       "      <td>Slight</td>\n",
       "      <td>773</td>\n",
       "    </tr>\n",
       "    <tr>\n",
       "      <th>Other</th>\n",
       "      <td>4803</td>\n",
       "      <td>3</td>\n",
       "      <td>Slight</td>\n",
       "      <td>4213</td>\n",
       "    </tr>\n",
       "    <tr>\n",
       "      <th>Raining + high winds</th>\n",
       "      <td>3066</td>\n",
       "      <td>3</td>\n",
       "      <td>Slight</td>\n",
       "      <td>2596</td>\n",
       "    </tr>\n",
       "    <tr>\n",
       "      <th>Raining no high winds</th>\n",
       "      <td>22666</td>\n",
       "      <td>3</td>\n",
       "      <td>Slight</td>\n",
       "      <td>19444</td>\n",
       "    </tr>\n",
       "    <tr>\n",
       "      <th>Snowing + high winds</th>\n",
       "      <td>241</td>\n",
       "      <td>3</td>\n",
       "      <td>Slight</td>\n",
       "      <td>208</td>\n",
       "    </tr>\n",
       "    <tr>\n",
       "      <th>Snowing no high winds</th>\n",
       "      <td>1828</td>\n",
       "      <td>3</td>\n",
       "      <td>Slight</td>\n",
       "      <td>1670</td>\n",
       "    </tr>\n",
       "    <tr>\n",
       "      <th rowspan=\"8\" valign=\"top\">Darkness - lights unlit</th>\n",
       "      <th>Fine + high winds</th>\n",
       "      <td>51</td>\n",
       "      <td>3</td>\n",
       "      <td>Slight</td>\n",
       "      <td>40</td>\n",
       "    </tr>\n",
       "    <tr>\n",
       "      <th>Fine no high winds</th>\n",
       "      <td>1745</td>\n",
       "      <td>3</td>\n",
       "      <td>Slight</td>\n",
       "      <td>1464</td>\n",
       "    </tr>\n",
       "    <tr>\n",
       "      <th>Fog or mist</th>\n",
       "      <td>37</td>\n",
       "      <td>3</td>\n",
       "      <td>Slight</td>\n",
       "      <td>32</td>\n",
       "    </tr>\n",
       "    <tr>\n",
       "      <th>Other</th>\n",
       "      <td>143</td>\n",
       "      <td>2</td>\n",
       "      <td>Slight</td>\n",
       "      <td>122</td>\n",
       "    </tr>\n",
       "    <tr>\n",
       "      <th>Raining + high winds</th>\n",
       "      <td>73</td>\n",
       "      <td>3</td>\n",
       "      <td>Slight</td>\n",
       "      <td>60</td>\n",
       "    </tr>\n",
       "    <tr>\n",
       "      <th>Raining no high winds</th>\n",
       "      <td>459</td>\n",
       "      <td>3</td>\n",
       "      <td>Slight</td>\n",
       "      <td>391</td>\n",
       "    </tr>\n",
       "    <tr>\n",
       "      <th>Snowing + high winds</th>\n",
       "      <td>5</td>\n",
       "      <td>2</td>\n",
       "      <td>Slight</td>\n",
       "      <td>4</td>\n",
       "    </tr>\n",
       "    <tr>\n",
       "      <th>Snowing no high winds</th>\n",
       "      <td>30</td>\n",
       "      <td>2</td>\n",
       "      <td>Slight</td>\n",
       "      <td>25</td>\n",
       "    </tr>\n",
       "    <tr>\n",
       "      <th rowspan=\"8\" valign=\"top\">Darkness - no lighting</th>\n",
       "      <th>Fine + high winds</th>\n",
       "      <td>796</td>\n",
       "      <td>3</td>\n",
       "      <td>Slight</td>\n",
       "      <td>607</td>\n",
       "    </tr>\n",
       "    <tr>\n",
       "      <th>Fine no high winds</th>\n",
       "      <td>25251</td>\n",
       "      <td>3</td>\n",
       "      <td>Slight</td>\n",
       "      <td>18824</td>\n",
       "    </tr>\n",
       "    <tr>\n",
       "      <th>Fog or mist</th>\n",
       "      <td>862</td>\n",
       "      <td>3</td>\n",
       "      <td>Slight</td>\n",
       "      <td>695</td>\n",
       "    </tr>\n",
       "    <tr>\n",
       "      <th>Other</th>\n",
       "      <td>1915</td>\n",
       "      <td>3</td>\n",
       "      <td>Slight</td>\n",
       "      <td>1622</td>\n",
       "    </tr>\n",
       "    <tr>\n",
       "      <th>Raining + high winds</th>\n",
       "      <td>1423</td>\n",
       "      <td>3</td>\n",
       "      <td>Slight</td>\n",
       "      <td>1136</td>\n",
       "    </tr>\n",
       "    <tr>\n",
       "      <th>Raining no high winds</th>\n",
       "      <td>6208</td>\n",
       "      <td>3</td>\n",
       "      <td>Slight</td>\n",
       "      <td>4930</td>\n",
       "    </tr>\n",
       "    <tr>\n",
       "      <th>Snowing + high winds</th>\n",
       "      <td>171</td>\n",
       "      <td>3</td>\n",
       "      <td>Slight</td>\n",
       "      <td>144</td>\n",
       "    </tr>\n",
       "    <tr>\n",
       "      <th>Snowing no high winds</th>\n",
       "      <td>811</td>\n",
       "      <td>3</td>\n",
       "      <td>Slight</td>\n",
       "      <td>693</td>\n",
       "    </tr>\n",
       "    <tr>\n",
       "      <th rowspan=\"8\" valign=\"top\">Daylight</th>\n",
       "      <th>Fine + high winds</th>\n",
       "      <td>5796</td>\n",
       "      <td>3</td>\n",
       "      <td>Slight</td>\n",
       "      <td>4941</td>\n",
       "    </tr>\n",
       "    <tr>\n",
       "      <th>Fine no high winds</th>\n",
       "      <td>408726</td>\n",
       "      <td>3</td>\n",
       "      <td>Slight</td>\n",
       "      <td>351675</td>\n",
       "    </tr>\n",
       "    <tr>\n",
       "      <th>Fog or mist</th>\n",
       "      <td>1643</td>\n",
       "      <td>3</td>\n",
       "      <td>Slight</td>\n",
       "      <td>1404</td>\n",
       "    </tr>\n",
       "    <tr>\n",
       "      <th>Other</th>\n",
       "      <td>10103</td>\n",
       "      <td>3</td>\n",
       "      <td>Slight</td>\n",
       "      <td>9073</td>\n",
       "    </tr>\n",
       "    <tr>\n",
       "      <th>Raining + high winds</th>\n",
       "      <td>4942</td>\n",
       "      <td>3</td>\n",
       "      <td>Slight</td>\n",
       "      <td>4322</td>\n",
       "    </tr>\n",
       "    <tr>\n",
       "      <th>Raining no high winds</th>\n",
       "      <td>49742</td>\n",
       "      <td>3</td>\n",
       "      <td>Slight</td>\n",
       "      <td>44065</td>\n",
       "    </tr>\n",
       "    <tr>\n",
       "      <th>Snowing + high winds</th>\n",
       "      <td>453</td>\n",
       "      <td>3</td>\n",
       "      <td>Slight</td>\n",
       "      <td>402</td>\n",
       "    </tr>\n",
       "    <tr>\n",
       "      <th>Snowing no high winds</th>\n",
       "      <td>3475</td>\n",
       "      <td>3</td>\n",
       "      <td>Slight</td>\n",
       "      <td>3163</td>\n",
       "    </tr>\n",
       "  </tbody>\n",
       "</table>\n",
       "</div>"
      ],
      "text/plain": [
       "                                                    count unique     top  \\\n",
       "Light_Conditions            Weather_Conditions                             \n",
       "Darkness - lighting unknown Fine + high winds          59      3  Slight   \n",
       "                            Fine no high winds       5333      3  Slight   \n",
       "                            Fog or mist                65      2  Slight   \n",
       "                            Other                     186      3  Slight   \n",
       "                            Raining + high winds      111      3  Slight   \n",
       "                            Raining no high winds     621      3  Slight   \n",
       "                            Snowing + high winds       15      1  Slight   \n",
       "                            Snowing no high winds      94      2  Slight   \n",
       "Darkness - lights lit       Fine + high winds        1852      3  Slight   \n",
       "                            Fine no high winds      93958      3  Slight   \n",
       "                            Fog or mist               921      3  Slight   \n",
       "                            Other                    4803      3  Slight   \n",
       "                            Raining + high winds     3066      3  Slight   \n",
       "                            Raining no high winds   22666      3  Slight   \n",
       "                            Snowing + high winds      241      3  Slight   \n",
       "                            Snowing no high winds    1828      3  Slight   \n",
       "Darkness - lights unlit     Fine + high winds          51      3  Slight   \n",
       "                            Fine no high winds       1745      3  Slight   \n",
       "                            Fog or mist                37      3  Slight   \n",
       "                            Other                     143      2  Slight   \n",
       "                            Raining + high winds       73      3  Slight   \n",
       "                            Raining no high winds     459      3  Slight   \n",
       "                            Snowing + high winds        5      2  Slight   \n",
       "                            Snowing no high winds      30      2  Slight   \n",
       "Darkness - no lighting      Fine + high winds         796      3  Slight   \n",
       "                            Fine no high winds      25251      3  Slight   \n",
       "                            Fog or mist               862      3  Slight   \n",
       "                            Other                    1915      3  Slight   \n",
       "                            Raining + high winds     1423      3  Slight   \n",
       "                            Raining no high winds    6208      3  Slight   \n",
       "                            Snowing + high winds      171      3  Slight   \n",
       "                            Snowing no high winds     811      3  Slight   \n",
       "Daylight                    Fine + high winds        5796      3  Slight   \n",
       "                            Fine no high winds     408726      3  Slight   \n",
       "                            Fog or mist              1643      3  Slight   \n",
       "                            Other                   10103      3  Slight   \n",
       "                            Raining + high winds     4942      3  Slight   \n",
       "                            Raining no high winds   49742      3  Slight   \n",
       "                            Snowing + high winds      453      3  Slight   \n",
       "                            Snowing no high winds    3475      3  Slight   \n",
       "\n",
       "                                                     freq  \n",
       "Light_Conditions            Weather_Conditions             \n",
       "Darkness - lighting unknown Fine + high winds          49  \n",
       "                            Fine no high winds       4614  \n",
       "                            Fog or mist                59  \n",
       "                            Other                     154  \n",
       "                            Raining + high winds       95  \n",
       "                            Raining no high winds     550  \n",
       "                            Snowing + high winds       15  \n",
       "                            Snowing no high winds      86  \n",
       "Darkness - lights lit       Fine + high winds        1497  \n",
       "                            Fine no high winds      77944  \n",
       "                            Fog or mist               773  \n",
       "                            Other                    4213  \n",
       "                            Raining + high winds     2596  \n",
       "                            Raining no high winds   19444  \n",
       "                            Snowing + high winds      208  \n",
       "                            Snowing no high winds    1670  \n",
       "Darkness - lights unlit     Fine + high winds          40  \n",
       "                            Fine no high winds       1464  \n",
       "                            Fog or mist                32  \n",
       "                            Other                     122  \n",
       "                            Raining + high winds       60  \n",
       "                            Raining no high winds     391  \n",
       "                            Snowing + high winds        4  \n",
       "                            Snowing no high winds      25  \n",
       "Darkness - no lighting      Fine + high winds         607  \n",
       "                            Fine no high winds      18824  \n",
       "                            Fog or mist               695  \n",
       "                            Other                    1622  \n",
       "                            Raining + high winds     1136  \n",
       "                            Raining no high winds    4930  \n",
       "                            Snowing + high winds      144  \n",
       "                            Snowing no high winds     693  \n",
       "Daylight                    Fine + high winds        4941  \n",
       "                            Fine no high winds     351675  \n",
       "                            Fog or mist              1404  \n",
       "                            Other                    9073  \n",
       "                            Raining + high winds     4322  \n",
       "                            Raining no high winds   44065  \n",
       "                            Snowing + high winds      402  \n",
       "                            Snowing no high winds    3163  "
      ]
     },
     "execution_count": 37,
     "metadata": {},
     "output_type": "execute_result"
    }
   ],
   "source": [
    "accident.groupby(['Light_Conditions', 'Weather_Conditions'])['Accident_Severity'].describe()"
   ]
  },
  {
   "cell_type": "markdown",
   "id": "3b2aa49e-9035-4a4e-927d-1333cb781e01",
   "metadata": {},
   "source": [
    "<h2>Insigths 20) : </h2><h4> Weather conditions combined with poor lighting, such as rain, fog, or snow at night, lead to disproportionately higher accident severity, with darkness and lack of road lighting emerging as critical risk factors compared to similar conditions in daylight. </h4>"
   ]
  },
  {
   "cell_type": "markdown",
   "id": "18aec325-481d-4c98-ba36-9486402cfe49",
   "metadata": {},
   "source": [
    "<h1> 19) What's the deadliest month on the road for the city of London in the year 2020 ?</h1>"
   ]
  },
  {
   "cell_type": "code",
   "execution_count": 99,
   "id": "35bf71d9-9de4-4639-845f-4645aedd8f83",
   "metadata": {},
   "outputs": [
    {
     "name": "stdout",
     "output_type": "stream",
     "text": [
      "Accidents by Month and Severity:\n",
      "Accident_Severity  Fatal  Serious\n",
      "Month                            \n",
      "1                      0        2\n",
      "2                      0        6\n",
      "3                      0        3\n",
      "4                      0        4\n",
      "5                      0        5\n",
      "6                      0        5\n",
      "7                      0        1\n",
      "8                      0        4\n",
      "9                      1        7\n",
      "10                     0        4\n",
      "11                     1        3\n",
      "12                     0        5\n"
     ]
    }
   ],
   "source": [
    "# deadly = accident[accident['Accident_Severity'] != 'slight'][['Month']].value_counts()\n",
    "# deadly.unstack()\n",
    "\n",
    "# deadly = (accident[(accident['Accident_Severity'] != 'Slight') & (accident['District Area'] == 'City of London')].groupby(['Month', 'Accident_Severity' ]))\n",
    "# deadly.size().unstack(fill_value=0)\n",
    "\n",
    "london_deadly = accident[(accident['Accident_Severity'] != 'Slight') & \n",
    "                        (accident['District Area'] == 'City of London') & (accident['Year'] == 2020)]\n",
    "\n",
    "deadly_by_month = london_deadly.groupby(['Month', 'Accident_Severity']).size().unstack(fill_value=0)\n",
    "\n",
    "deadly_by_month = deadly_by_month.sort_index()\n",
    "\n",
    "print(\"Accidents by Month and Severity:\")\n",
    "print(deadly_by_month)\n"
   ]
  },
  {
   "cell_type": "code",
   "execution_count": 109,
   "id": "e039b890-ee1c-435b-aed2-781c71b573ea",
   "metadata": {},
   "outputs": [
    {
     "data": {
      "image/png": "[encoded data removed]",
      "text/plain": [
       "<Figure size 1200x600 with 1 Axes>"
      ]
     },
     "metadata": {},
     "output_type": "display_data"
    }
   ],
   "source": [
    "\n",
    "colors = ['red', 'orange']  # Fatal will be red, Serious will be orange\n",
    "ax = deadly_by_month.plot(kind='bar', \n",
    "                         figsize=(12, 6), \n",
    "                         color=colors)\n",
    "\n",
    "\n",
    "plt.title(\"Deadliest Months for the City of London (Serious vs Fatal) by 2020\", fontsize=16)\n",
    "plt.ylabel(\"Number of Accidents\", fontsize=12)\n",
    "plt.yticks()\n",
    "plt.xticks(rotation=360)\n",
    "plt.xticks(range(0, 12), ['Jan','Feb','Mar','Apr','May','Jun','Jul','Aug','Sep','Oct','Nov','Dec'])\n",
    "plt.legend(title=\"Accident Severity\")\n",
    "plt.show()\n"
   ]
  },
  {
   "cell_type": "markdown",
   "id": "900ac719-b831-4ae6-afe5-31263fb167cb",
   "metadata": {},
   "source": [
    "<h2> Insights 21) : </h2> <h4> The deadliest month for City of London is: september,\n",
    "Total serious and fatal accidents: 8 </h4>"
   ]
  },
  {
   "cell_type": "markdown",
   "id": "c2ec1f92-991d-4dc5-99e9-eb60cbc280ba",
   "metadata": {},
   "source": [
    "<h2> Insights 22 ) : </h2> <h4> The number of severity were low, due to the covid lockdown happening on 2020 </h4>"
   ]
  },
  {
   "cell_type": "markdown",
   "id": "0d61343d-18df-4b58-9454-ad0290263ea5",
   "metadata": {},
   "source": [
    "<h1> Question 20) What yer does the road and weather conditions cause the severity of the accidents</h1>"
   ]
  },
  {
   "cell_type": "code",
   "execution_count": 113,
   "id": "7345dbd1-e6ec-4d77-a6ff-f4813bbd4897",
   "metadata": {},
   "outputs": [
    {
     "data": {
      "text/plain": [
       "                                 Year\n",
       "Weather_Conditions       count   2019                182115\n",
       "                                 2020                170591\n",
       "                                 2021                163554\n",
       "                                 2022                144419\n",
       "                         unique  2019                     8\n",
       "                                 2020                     8\n",
       "                                 2021                     8\n",
       "                                 2022                     8\n",
       "                         top     2019    Fine no high winds\n",
       "                                 2020    Fine no high winds\n",
       "                                 2021    Fine no high winds\n",
       "                                 2022    Fine no high winds\n",
       "                         freq    2019                148010\n",
       "                                 2020                136450\n",
       "                                 2021                131929\n",
       "                                 2022                118624\n",
       "Road_Surface_Conditions  count   2019                182115\n",
       "                                 2020                170591\n",
       "                                 2021                163554\n",
       "                                 2022                144419\n",
       "                         unique  2019                     5\n",
       "                                 2020                     5\n",
       "                                 2021                     5\n",
       "                                 2022                     5\n",
       "                         top     2019                   Dry\n",
       "                                 2020                   Dry\n",
       "                                 2021                   Dry\n",
       "                                 2022                   Dry\n",
       "                         freq    2019                125547\n",
       "                                 2020                113716\n",
       "                                 2021                110435\n",
       "                                 2022                 98849\n",
       "Accident_Severity        count   2019                182115\n",
       "                                 2020                170591\n",
       "                                 2021                163554\n",
       "                                 2022                144419\n",
       "                         unique  2019                     3\n",
       "                                 2020                     3\n",
       "                                 2021                     3\n",
       "                                 2022                     3\n",
       "                         top     2019                Slight\n",
       "                                 2020                Slight\n",
       "                                 2021                Slight\n",
       "                                 2022                Slight\n",
       "                         freq    2019                155079\n",
       "                                 2020                145129\n",
       "                                 2021                139500\n",
       "                                 2022                124093\n",
       "dtype: object"
      ]
     },
     "execution_count": 113,
     "metadata": {},
     "output_type": "execute_result"
    }
   ],
   "source": [
    "accident.groupby('Year')[['Weather_Conditions','Road_Surface_Conditions','Accident_Severity']].describe().unstack()"
   ]
  },
  {
   "cell_type": "markdown",
   "id": "2822c181-ae73-4597-8cb8-a9203fb66906",
   "metadata": {},
   "source": [
    "<h1> Question 21) Is there a correlation between road and weather conditions in the severity of the accidents, on the year 2018</h1>"
   ]
  },
  {
   "cell_type": "code",
   "execution_count": 116,
   "id": "46bb2b80-90e1-40a9-9726-33e7d3c3b51c",
   "metadata": {},
   "outputs": [
    {
     "ename": "ValueError",
     "evalue": "could not convert string to float: '200701KD65034'",
     "output_type": "error",
     "traceback": [
      "\u001b[31m---------------------------------------------------------------------------\u001b[39m",
      "\u001b[31mValueError\u001b[39m                                Traceback (most recent call last)",
      "\u001b[36mCell\u001b[39m\u001b[36m \u001b[39m\u001b[32mIn[116]\u001b[39m\u001b[32m, line 3\u001b[39m\n\u001b[32m      1\u001b[39m accident_year = accident.groupby([\u001b[33m'\u001b[39m\u001b[33mWeather_Conditions\u001b[39m\u001b[33m'\u001b[39m,\u001b[33m'\u001b[39m\u001b[33mRoad_Surface_Conditions\u001b[39m\u001b[33m'\u001b[39m,\u001b[33m'\u001b[39m\u001b[33mAccident_Severity\u001b[39m\u001b[33m'\u001b[39m])\n\u001b[32m----> \u001b[39m\u001b[32m3\u001b[39m \u001b[43maccident_year\u001b[49m\u001b[43m.\u001b[49m\u001b[43mcorr\u001b[49m\u001b[43m(\u001b[49m\u001b[43maccident\u001b[49m\u001b[43m[\u001b[49m\u001b[33;43m\"\u001b[39;49m\u001b[33;43mYear\u001b[39;49m\u001b[33;43m\"\u001b[39;49m\u001b[43m]\u001b[49m\u001b[43m)\u001b[49m\n",
      "\u001b[36mFile \u001b[39m\u001b[32m~\\AppData\\Roaming\\Python\\Python313\\site-packages\\pandas\\core\\groupby\\generic.py:2734\u001b[39m, in \u001b[36mDataFrameGroupBy.corr\u001b[39m\u001b[34m(self, method, min_periods, numeric_only)\u001b[39m\n\u001b[32m   2727\u001b[39m \u001b[38;5;129m@doc\u001b[39m(DataFrame.corr.\u001b[34m__doc__\u001b[39m)\n\u001b[32m   2728\u001b[39m \u001b[38;5;28;01mdef\u001b[39;00m\u001b[38;5;250m \u001b[39m\u001b[34mcorr\u001b[39m(\n\u001b[32m   2729\u001b[39m     \u001b[38;5;28mself\u001b[39m,\n\u001b[32m   (...)\u001b[39m\u001b[32m   2732\u001b[39m     numeric_only: \u001b[38;5;28mbool\u001b[39m = \u001b[38;5;28;01mFalse\u001b[39;00m,\n\u001b[32m   2733\u001b[39m ) -> DataFrame:\n\u001b[32m-> \u001b[39m\u001b[32m2734\u001b[39m     result = \u001b[38;5;28;43mself\u001b[39;49m\u001b[43m.\u001b[49m\u001b[43m_op_via_apply\u001b[49m\u001b[43m(\u001b[49m\n\u001b[32m   2735\u001b[39m \u001b[43m        \u001b[49m\u001b[33;43m\"\u001b[39;49m\u001b[33;43mcorr\u001b[39;49m\u001b[33;43m\"\u001b[39;49m\u001b[43m,\u001b[49m\u001b[43m \u001b[49m\u001b[43mmethod\u001b[49m\u001b[43m=\u001b[49m\u001b[43mmethod\u001b[49m\u001b[43m,\u001b[49m\u001b[43m \u001b[49m\u001b[43mmin_periods\u001b[49m\u001b[43m=\u001b[49m\u001b[43mmin_periods\u001b[49m\u001b[43m,\u001b[49m\u001b[43m \u001b[49m\u001b[43mnumeric_only\u001b[49m\u001b[43m=\u001b[49m\u001b[43mnumeric_only\u001b[49m\n\u001b[32m   2736\u001b[39m \u001b[43m    \u001b[49m\u001b[43m)\u001b[49m\n\u001b[32m   2737\u001b[39m     \u001b[38;5;28;01mreturn\u001b[39;00m result\n",
      "\u001b[36mFile \u001b[39m\u001b[32m~\\AppData\\Roaming\\Python\\Python313\\site-packages\\pandas\\core\\groupby\\groupby.py:1426\u001b[39m, in \u001b[36mGroupBy._op_via_apply\u001b[39m\u001b[34m(self, name, *args, **kwargs)\u001b[39m\n\u001b[32m   1423\u001b[39m     \u001b[38;5;28;01mreturn\u001b[39;00m \u001b[38;5;28mself\u001b[39m._python_apply_general(curried, \u001b[38;5;28mself\u001b[39m._selected_obj)\n\u001b[32m   1425\u001b[39m is_transform = name \u001b[38;5;129;01min\u001b[39;00m base.transformation_kernels\n\u001b[32m-> \u001b[39m\u001b[32m1426\u001b[39m result = \u001b[38;5;28;43mself\u001b[39;49m\u001b[43m.\u001b[49m\u001b[43m_python_apply_general\u001b[49m\u001b[43m(\u001b[49m\n\u001b[32m   1427\u001b[39m \u001b[43m    \u001b[49m\u001b[43mcurried\u001b[49m\u001b[43m,\u001b[49m\n\u001b[32m   1428\u001b[39m \u001b[43m    \u001b[49m\u001b[38;5;28;43mself\u001b[39;49m\u001b[43m.\u001b[49m\u001b[43m_obj_with_exclusions\u001b[49m\u001b[43m,\u001b[49m\n\u001b[32m   1429\u001b[39m \u001b[43m    \u001b[49m\u001b[43mis_transform\u001b[49m\u001b[43m=\u001b[49m\u001b[43mis_transform\u001b[49m\u001b[43m,\u001b[49m\n\u001b[32m   1430\u001b[39m \u001b[43m    \u001b[49m\u001b[43mnot_indexed_same\u001b[49m\u001b[43m=\u001b[49m\u001b[38;5;129;43;01mnot\u001b[39;49;00m\u001b[43m \u001b[49m\u001b[43mis_transform\u001b[49m\u001b[43m,\u001b[49m\n\u001b[32m   1431\u001b[39m \u001b[43m\u001b[49m\u001b[43m)\u001b[49m\n\u001b[32m   1433\u001b[39m \u001b[38;5;28;01mif\u001b[39;00m \u001b[38;5;28mself\u001b[39m._grouper.has_dropped_na \u001b[38;5;129;01mand\u001b[39;00m is_transform:\n\u001b[32m   1434\u001b[39m     \u001b[38;5;66;03m# result will have dropped rows due to nans, fill with null\u001b[39;00m\n\u001b[32m   1435\u001b[39m     \u001b[38;5;66;03m# and ensure index is ordered same as the input\u001b[39;00m\n\u001b[32m   1436\u001b[39m     result = \u001b[38;5;28mself\u001b[39m._set_result_index_ordered(result)\n",
      "\u001b[36mFile \u001b[39m\u001b[32m~\\AppData\\Roaming\\Python\\Python313\\site-packages\\pandas\\core\\groupby\\groupby.py:1886\u001b[39m, in \u001b[36mGroupBy._python_apply_general\u001b[39m\u001b[34m(self, f, data, not_indexed_same, is_transform, is_agg)\u001b[39m\n\u001b[32m   1851\u001b[39m \u001b[38;5;129m@final\u001b[39m\n\u001b[32m   1852\u001b[39m \u001b[38;5;28;01mdef\u001b[39;00m\u001b[38;5;250m \u001b[39m\u001b[34m_python_apply_general\u001b[39m(\n\u001b[32m   1853\u001b[39m     \u001b[38;5;28mself\u001b[39m,\n\u001b[32m   (...)\u001b[39m\u001b[32m   1858\u001b[39m     is_agg: \u001b[38;5;28mbool\u001b[39m = \u001b[38;5;28;01mFalse\u001b[39;00m,\n\u001b[32m   1859\u001b[39m ) -> NDFrameT:\n\u001b[32m   1860\u001b[39m \u001b[38;5;250m    \u001b[39m\u001b[33;03m\"\"\"\u001b[39;00m\n\u001b[32m   1861\u001b[39m \u001b[33;03m    Apply function f in python space\u001b[39;00m\n\u001b[32m   1862\u001b[39m \n\u001b[32m   (...)\u001b[39m\u001b[32m   1884\u001b[39m \u001b[33;03m        data after applying f\u001b[39;00m\n\u001b[32m   1885\u001b[39m \u001b[33;03m    \"\"\"\u001b[39;00m\n\u001b[32m-> \u001b[39m\u001b[32m1886\u001b[39m     values, mutated = \u001b[38;5;28;43mself\u001b[39;49m\u001b[43m.\u001b[49m\u001b[43m_grouper\u001b[49m\u001b[43m.\u001b[49m\u001b[43mapply_groupwise\u001b[49m\u001b[43m(\u001b[49m\u001b[43mf\u001b[49m\u001b[43m,\u001b[49m\u001b[43m \u001b[49m\u001b[43mdata\u001b[49m\u001b[43m,\u001b[49m\u001b[43m \u001b[49m\u001b[38;5;28;43mself\u001b[39;49m\u001b[43m.\u001b[49m\u001b[43maxis\u001b[49m\u001b[43m)\u001b[49m\n\u001b[32m   1887\u001b[39m     \u001b[38;5;28;01mif\u001b[39;00m not_indexed_same \u001b[38;5;129;01mis\u001b[39;00m \u001b[38;5;28;01mNone\u001b[39;00m:\n\u001b[32m   1888\u001b[39m         not_indexed_same = mutated\n",
      "\u001b[36mFile \u001b[39m\u001b[32m~\\AppData\\Roaming\\Python\\Python313\\site-packages\\pandas\\core\\groupby\\ops.py:919\u001b[39m, in \u001b[36mBaseGrouper.apply_groupwise\u001b[39m\u001b[34m(self, f, data, axis)\u001b[39m\n\u001b[32m    917\u001b[39m \u001b[38;5;66;03m# group might be modified\u001b[39;00m\n\u001b[32m    918\u001b[39m group_axes = group.axes\n\u001b[32m--> \u001b[39m\u001b[32m919\u001b[39m res = \u001b[43mf\u001b[49m\u001b[43m(\u001b[49m\u001b[43mgroup\u001b[49m\u001b[43m)\u001b[49m\n\u001b[32m    920\u001b[39m \u001b[38;5;28;01mif\u001b[39;00m \u001b[38;5;129;01mnot\u001b[39;00m mutated \u001b[38;5;129;01mand\u001b[39;00m \u001b[38;5;129;01mnot\u001b[39;00m _is_indexed_like(res, group_axes, axis):\n\u001b[32m    921\u001b[39m     mutated = \u001b[38;5;28;01mTrue\u001b[39;00m\n",
      "\u001b[36mFile \u001b[39m\u001b[32m~\\AppData\\Roaming\\Python\\Python313\\site-packages\\pandas\\core\\groupby\\groupby.py:1414\u001b[39m, in \u001b[36mGroupBy._op_via_apply.<locals>.curried\u001b[39m\u001b[34m(x)\u001b[39m\n\u001b[32m   1413\u001b[39m \u001b[38;5;28;01mdef\u001b[39;00m\u001b[38;5;250m \u001b[39m\u001b[34mcurried\u001b[39m(x):\n\u001b[32m-> \u001b[39m\u001b[32m1414\u001b[39m     \u001b[38;5;28;01mreturn\u001b[39;00m \u001b[43mf\u001b[49m\u001b[43m(\u001b[49m\u001b[43mx\u001b[49m\u001b[43m,\u001b[49m\u001b[43m \u001b[49m\u001b[43m*\u001b[49m\u001b[43margs\u001b[49m\u001b[43m,\u001b[49m\u001b[43m \u001b[49m\u001b[43m*\u001b[49m\u001b[43m*\u001b[49m\u001b[43mkwargs\u001b[49m\u001b[43m)\u001b[49m\n",
      "\u001b[36mFile \u001b[39m\u001b[32m~\\AppData\\Roaming\\Python\\Python313\\site-packages\\pandas\\core\\frame.py:11056\u001b[39m, in \u001b[36mDataFrame.corr\u001b[39m\u001b[34m(self, method, min_periods, numeric_only)\u001b[39m\n\u001b[32m  11054\u001b[39m cols = data.columns\n\u001b[32m  11055\u001b[39m idx = cols.copy()\n\u001b[32m> \u001b[39m\u001b[32m11056\u001b[39m mat = \u001b[43mdata\u001b[49m\u001b[43m.\u001b[49m\u001b[43mto_numpy\u001b[49m\u001b[43m(\u001b[49m\u001b[43mdtype\u001b[49m\u001b[43m=\u001b[49m\u001b[38;5;28;43mfloat\u001b[39;49m\u001b[43m,\u001b[49m\u001b[43m \u001b[49m\u001b[43mna_value\u001b[49m\u001b[43m=\u001b[49m\u001b[43mnp\u001b[49m\u001b[43m.\u001b[49m\u001b[43mnan\u001b[49m\u001b[43m,\u001b[49m\u001b[43m \u001b[49m\u001b[43mcopy\u001b[49m\u001b[43m=\u001b[49m\u001b[38;5;28;43;01mFalse\u001b[39;49;00m\u001b[43m)\u001b[49m\n\u001b[32m  11058\u001b[39m \u001b[38;5;28;01mif\u001b[39;00m method == \u001b[33m\"\u001b[39m\u001b[33mpearson\u001b[39m\u001b[33m\"\u001b[39m:\n\u001b[32m  11059\u001b[39m     correl = libalgos.nancorr(mat, minp=min_periods)\n",
      "\u001b[36mFile \u001b[39m\u001b[32m~\\AppData\\Roaming\\Python\\Python313\\site-packages\\pandas\\core\\frame.py:1998\u001b[39m, in \u001b[36mDataFrame.to_numpy\u001b[39m\u001b[34m(self, dtype, copy, na_value)\u001b[39m\n\u001b[32m   1996\u001b[39m \u001b[38;5;28;01mif\u001b[39;00m dtype \u001b[38;5;129;01mis\u001b[39;00m \u001b[38;5;129;01mnot\u001b[39;00m \u001b[38;5;28;01mNone\u001b[39;00m:\n\u001b[32m   1997\u001b[39m     dtype = np.dtype(dtype)\n\u001b[32m-> \u001b[39m\u001b[32m1998\u001b[39m result = \u001b[38;5;28;43mself\u001b[39;49m\u001b[43m.\u001b[49m\u001b[43m_mgr\u001b[49m\u001b[43m.\u001b[49m\u001b[43mas_array\u001b[49m\u001b[43m(\u001b[49m\u001b[43mdtype\u001b[49m\u001b[43m=\u001b[49m\u001b[43mdtype\u001b[49m\u001b[43m,\u001b[49m\u001b[43m \u001b[49m\u001b[43mcopy\u001b[49m\u001b[43m=\u001b[49m\u001b[43mcopy\u001b[49m\u001b[43m,\u001b[49m\u001b[43m \u001b[49m\u001b[43mna_value\u001b[49m\u001b[43m=\u001b[49m\u001b[43mna_value\u001b[49m\u001b[43m)\u001b[49m\n\u001b[32m   1999\u001b[39m \u001b[38;5;28;01mif\u001b[39;00m result.dtype \u001b[38;5;129;01mis\u001b[39;00m \u001b[38;5;129;01mnot\u001b[39;00m dtype:\n\u001b[32m   2000\u001b[39m     result = np.asarray(result, dtype=dtype)\n",
      "\u001b[36mFile \u001b[39m\u001b[32m~\\AppData\\Roaming\\Python\\Python313\\site-packages\\pandas\\core\\internals\\managers.py:1694\u001b[39m, in \u001b[36mBlockManager.as_array\u001b[39m\u001b[34m(self, dtype, copy, na_value)\u001b[39m\n\u001b[32m   1692\u001b[39m         arr.flags.writeable = \u001b[38;5;28;01mFalse\u001b[39;00m\n\u001b[32m   1693\u001b[39m \u001b[38;5;28;01melse\u001b[39;00m:\n\u001b[32m-> \u001b[39m\u001b[32m1694\u001b[39m     arr = \u001b[38;5;28;43mself\u001b[39;49m\u001b[43m.\u001b[49m\u001b[43m_interleave\u001b[49m\u001b[43m(\u001b[49m\u001b[43mdtype\u001b[49m\u001b[43m=\u001b[49m\u001b[43mdtype\u001b[49m\u001b[43m,\u001b[49m\u001b[43m \u001b[49m\u001b[43mna_value\u001b[49m\u001b[43m=\u001b[49m\u001b[43mna_value\u001b[49m\u001b[43m)\u001b[49m\n\u001b[32m   1695\u001b[39m     \u001b[38;5;66;03m# The underlying data was copied within _interleave, so no need\u001b[39;00m\n\u001b[32m   1696\u001b[39m     \u001b[38;5;66;03m# to further copy if copy=True or setting na_value\u001b[39;00m\n\u001b[32m   1698\u001b[39m \u001b[38;5;28;01mif\u001b[39;00m na_value \u001b[38;5;129;01mis\u001b[39;00m lib.no_default:\n",
      "\u001b[36mFile \u001b[39m\u001b[32m~\\AppData\\Roaming\\Python\\Python313\\site-packages\\pandas\\core\\internals\\managers.py:1753\u001b[39m, in \u001b[36mBlockManager._interleave\u001b[39m\u001b[34m(self, dtype, na_value)\u001b[39m\n\u001b[32m   1751\u001b[39m     \u001b[38;5;28;01melse\u001b[39;00m:\n\u001b[32m   1752\u001b[39m         arr = blk.get_values(dtype)\n\u001b[32m-> \u001b[39m\u001b[32m1753\u001b[39m     \u001b[43mresult\u001b[49m\u001b[43m[\u001b[49m\u001b[43mrl\u001b[49m\u001b[43m.\u001b[49m\u001b[43mindexer\u001b[49m\u001b[43m]\u001b[49m = arr\n\u001b[32m   1754\u001b[39m     itemmask[rl.indexer] = \u001b[32m1\u001b[39m\n\u001b[32m   1756\u001b[39m \u001b[38;5;28;01mif\u001b[39;00m \u001b[38;5;129;01mnot\u001b[39;00m itemmask.all():\n",
      "\u001b[31mValueError\u001b[39m: could not convert string to float: '200701KD65034'"
     ]
    }
   ],
   "source": [
    "accident_year = accident.groupby(['Weather_Conditions','Road_Surface_Conditions','Accident_Severity'])\n",
    "\n",
    "accident_year.corr(accident[\"Year\"])\n"
   ]
  },
  {
   "cell_type": "code",
   "execution_count": null,
   "id": "cab020ea-a264-48f0-9a5e-b67e3caadd24",
   "metadata": {},
   "outputs": [],
   "source": []
  }
 ],
 "metadata": {
  "kernelspec": {
   "display_name": "Python (scipy-env)",
   "language": "python",
   "name": "scipy-env"
  },
  "language_info": {
   "codemirror_mode": {
    "name": "ipython",
    "version": 3
   },
   "file_extension": ".py",
   "mimetype": "text/x-python",
   "name": "python",
   "nbconvert_exporter": "python",
   "pygments_lexer": "ipython3",
   "version": "3.13.1"
  }
 },
 "nbformat": 4,
 "nbformat_minor": 5
}
